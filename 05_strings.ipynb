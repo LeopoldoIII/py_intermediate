{
 "cells": [
  {
   "cell_type": "code",
   "execution_count": 3,
   "metadata": {},
   "outputs": [
    {
     "name": "stdout",
     "output_type": "stream",
     "text": [
      "hello world\n",
      "dlrow olleh\n"
     ]
    }
   ],
   "source": [
    "my_string = \"hello \\\n",
    "world\"\n",
    "\n",
    "print(my_string)\n",
    "\n",
    "print(my_string[::-1])"
   ]
  },
  {
   "cell_type": "code",
   "execution_count": 4,
   "metadata": {},
   "outputs": [
    {
     "name": "stdout",
     "output_type": "stream",
     "text": [
      "yes\n",
      "False\n",
      "True\n"
     ]
    }
   ],
   "source": [
    "text = \"Hello world\"\n",
    "if 'e' in text:\n",
    "    print('yes')\n",
    "else:\n",
    "    print('no')\n",
    "\n",
    "print(text.startswith('world'))\n",
    "print(text.endswith('world'))"
   ]
  },
  {
   "cell_type": "code",
   "execution_count": 7,
   "metadata": {},
   "outputs": [
    {
     "name": "stdout",
     "output_type": "stream",
     "text": [
      "2\n",
      "1\n"
     ]
    }
   ],
   "source": [
    "text = \"test\"\n",
    "print(text.find('s'))\n",
    "print(text.count('s'))"
   ]
  },
  {
   "cell_type": "code",
   "execution_count": 8,
   "metadata": {},
   "outputs": [
    {
     "name": "stdout",
     "output_type": "stream",
     "text": [
      "Hello Universe\n"
     ]
    }
   ],
   "source": [
    "test = \"Hello world\"\n",
    "print(test.replace('world', 'Universe'))"
   ]
  },
  {
   "cell_type": "code",
   "execution_count": 22,
   "metadata": {},
   "outputs": [
    {
     "name": "stdout",
     "output_type": "stream",
     "text": [
      "['how', 'are', 'you', 'doing']\n",
      "how |are| you| doing\n",
      "how are you doing\n"
     ]
    }
   ],
   "source": [
    "text = \"how are you doing\"\n",
    "text_split = text.split()\n",
    "print(text_split)\n",
    "\n",
    "text_pipe = \"how |are| you| doing\"\n",
    "text_pipe_split = text_pipe\n",
    "print(text_pipe_split)\n",
    "\n",
    "print(' '.join(text_split))\n"
   ]
  },
  {
   "cell_type": "code",
   "execution_count": 4,
   "metadata": {},
   "outputs": [
    {
     "name": "stdout",
     "output_type": "stream",
     "text": [
      "['a', 'a', 'a', 'a', 'a']\n",
      "0.00015871799999445102\n",
      "8.932000000072549e-05\n"
     ]
    }
   ],
   "source": [
    "from timeit import default_timer as timer \n",
    "\n",
    "\n",
    "my_list = ['a'] * 5\n",
    "print(my_list)\n",
    "\n",
    "#bad \n",
    "\n",
    "start = timer()\n",
    "my_string = ''\n",
    "for i in my_list:\n",
    "    my_string += i\n",
    "stop = timer()\n",
    "print(stop - start)\n",
    "\n",
    "\n",
    "\n",
    "#good \n",
    "start = timer()\n",
    "my_string = ''.join(my_list)\n",
    "stop = timer()\n",
    "print(stop - start)"
   ]
  }
 ],
 "metadata": {
  "kernelspec": {
   "display_name": "venv",
   "language": "python",
   "name": "python3"
  },
  "language_info": {
   "codemirror_mode": {
    "name": "ipython",
    "version": 3
   },
   "file_extension": ".py",
   "mimetype": "text/x-python",
   "name": "python",
   "nbconvert_exporter": "python",
   "pygments_lexer": "ipython3",
   "version": "3.9.0"
  },
  "orig_nbformat": 4
 },
 "nbformat": 4,
 "nbformat_minor": 2
}
