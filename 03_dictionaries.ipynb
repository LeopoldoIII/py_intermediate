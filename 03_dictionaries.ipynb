{
 "cells": [
  {
   "cell_type": "markdown",
   "metadata": {},
   "source": [
    "# Dictionary\n",
    "Key-Value pairs, unordered, Mutable"
   ]
  },
  {
   "cell_type": "code",
   "execution_count": 2,
   "metadata": {},
   "outputs": [
    {
     "name": "stdout",
     "output_type": "stream",
     "text": [
      "{'name': 'Max', 'age': 28, 'city': 'New York'}\n",
      "{'name': 'Mary', 'age': 27, 'city': 'Boston'}\n"
     ]
    }
   ],
   "source": [
    "my_dict = {'name': 'Max', 'age': 28, 'city': 'New York'}\n",
    "print(my_dict)\n",
    "my_dict2 = dict(name='Mary', age=27, city='Boston')\n",
    "print(my_dict2)"
   ]
  },
  {
   "cell_type": "code",
   "execution_count": 3,
   "metadata": {},
   "outputs": [
    {
     "name": "stdout",
     "output_type": "stream",
     "text": [
      "Max\n"
     ]
    }
   ],
   "source": [
    "# Retrieve Data \n",
    "value = my_dict['name'] \n",
    "print(value)\n",
    "# If a k is not in the dict you'll get and KeyError \n",
    "# value = my_dict['t']\n"
   ]
  },
  {
   "cell_type": "code",
   "execution_count": 4,
   "metadata": {},
   "outputs": [
    {
     "name": "stdout",
     "output_type": "stream",
     "text": [
      "{'name': 'Max', 'age': 28, 'city': 'New York', 'email': 'max@email.com'}\n",
      "{'name': 'Max', 'age': 28, 'city': 'New York', 'email': 'maxNewEmail@email.com'}\n"
     ]
    }
   ],
   "source": [
    "# Add a Key \n",
    "\n",
    "my_dict['email'] = 'max@email.com'\n",
    "print(my_dict)\n",
    "# if the key already exist, then it will be ovewritten \n",
    "my_dict['email'] = 'maxNewEmail@email.com'\n",
    "print(my_dict)"
   ]
  },
  {
   "cell_type": "code",
   "execution_count": 5,
   "metadata": {},
   "outputs": [
    {
     "name": "stdout",
     "output_type": "stream",
     "text": [
      "{'age': 28, 'city': 'New York', 'email': 'maxNewEmail@email.com'}\n",
      "{'city': 'New York', 'email': 'maxNewEmail@email.com'}\n",
      "('email', 'maxNewEmail@email.com')\n"
     ]
    }
   ],
   "source": [
    "# Delete item  \n",
    "del my_dict['name']\n",
    "print(my_dict)\n",
    "\n",
    "# pop \n",
    "my_dict.pop('age')\n",
    "print(my_dict)\n",
    "\n",
    "# popitem \n",
    "# python 3.7 it removes the last inserted item\n",
    "print(my_dict.popitem())\n"
   ]
  },
  {
   "cell_type": "code",
   "execution_count": 6,
   "metadata": {},
   "outputs": [
    {
     "name": "stdout",
     "output_type": "stream",
     "text": [
      "Element New York exist\n",
      "Max\n"
     ]
    }
   ],
   "source": [
    "# check if a key is inside \n",
    "my_dict = {'name': 'Max', 'age': 28, 'city': 'New York'}\n",
    "\n",
    "if 'city' in my_dict:\n",
    "    print(f\"Element {my_dict['city']} exist\")\n",
    "\n",
    "# with try\n",
    "try:\n",
    "    print(my_dict['name'])\n",
    "except:\n",
    "    print('Element not found')"
   ]
  },
  {
   "cell_type": "code",
   "execution_count": 7,
   "metadata": {},
   "outputs": [
    {
     "name": "stdout",
     "output_type": "stream",
     "text": [
      "---keys---\n",
      "name\n",
      "age\n",
      "city\n",
      "---keys---\n",
      "name\n",
      "age\n",
      "city\n",
      "---values---\n",
      "Max\n",
      "28\n",
      "New York\n",
      "---Keys and values---\n",
      "name Max\n",
      "age 28\n",
      "city New York\n"
     ]
    }
   ],
   "source": [
    "# iterate \n",
    "print('---keys---')\n",
    "for key in my_dict:\n",
    "    print(key)\n",
    "\n",
    "# interate keys()\n",
    "print('---keys---')\n",
    "for key in my_dict.keys():\n",
    "    print(key)\n",
    "\n",
    "# interate values()\n",
    "print('---values---')\n",
    "for value in my_dict.values():\n",
    "    print(value)\n",
    "\n",
    "# interate keys and values\n",
    "print('---Keys and values---')\n",
    "for key, value in my_dict.items():\n",
    "    print(key, value)\n"
   ]
  },
  {
   "cell_type": "code",
   "execution_count": 8,
   "metadata": {},
   "outputs": [
    {
     "name": "stdout",
     "output_type": "stream",
     "text": [
      "{'name': 'Max', 'age': 28, 'city': 'New York'}\n",
      "{'name': 'Max', 'age': 28, 'city': 'New York'}\n"
     ]
    }
   ],
   "source": [
    "# copy Dict\n",
    " \n",
    "my_dict_1 = my_dict.copy()\n",
    "my_dict_2 = dict(my_dict)\n",
    "\n",
    "print(my_dict_1)\n",
    "print(my_dict_2)\n"
   ]
  },
  {
   "cell_type": "code",
   "execution_count": 10,
   "metadata": {},
   "outputs": [
    {
     "name": "stdout",
     "output_type": "stream",
     "text": [
      "{'name': 'Mary', 'age': 27, 'city': 'Boston'}\n",
      "{'name': 'Mary', 'age': 27, 'city': 'Boston'}\n",
      "{'name': 'Mary', 'age': 27, 'city': 'Boston'}\n"
     ]
    }
   ],
   "source": [
    "# merge dict \n",
    "print(my_dict)\n",
    "print(my_dict2)\n",
    "\n",
    "my_dict.update(my_dict2)\n",
    "print(my_dict)"
   ]
  }
 ],
 "metadata": {
  "interpreter": {
   "hash": "db1b1bb457af2413b026321b4daa2c122f561a2054c13254d0117e9d1064a04c"
  },
  "kernelspec": {
   "display_name": "Python 3.7.0 64-bit ('3.7.0')",
   "language": "python",
   "name": "python3"
  },
  "language_info": {
   "codemirror_mode": {
    "name": "ipython",
    "version": 3
   },
   "file_extension": ".py",
   "mimetype": "text/x-python",
   "name": "python",
   "nbconvert_exporter": "python",
   "pygments_lexer": "ipython3",
   "version": "3.7.0"
  },
  "orig_nbformat": 4
 },
 "nbformat": 4,
 "nbformat_minor": 2
}
