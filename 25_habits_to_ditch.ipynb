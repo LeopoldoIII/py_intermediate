{
 "cells": [
  {
   "cell_type": "code",
   "execution_count": 2,
   "outputs": [
    {
     "name": "stdout",
     "output_type": "stream",
     "text": [
      "Hola Fulanito\n",
      "Hola Fulanito\n"
     ]
    }
   ],
   "source": [
    "# Manual string formatting\n",
    "# wrong\n",
    "\n",
    "name = \"Fulanito\"\n",
    "\n",
    "print(\"Hola \" + name)\n",
    "\n",
    "# good\n",
    "\n",
    "print(f\"Hola {name}\")"
   ],
   "metadata": {
    "collapsed": false,
    "pycharm": {
     "name": "#%%\n"
    }
   }
  },
  {
   "cell_type": "code",
   "execution_count": null,
   "outputs": [],
   "source": [
    "# manually close a file\n",
    "# wrong\n",
    "\n",
    "\n",
    "f = open(\"file_path\", \"w\")\n",
    "f.write(\"Hello\\n\") # if this write call throws an exception the file will never be closed\n",
    "f.close()\n",
    "\n",
    "# good\n",
    "\n",
    "with open(\"file_path\") as f:\n",
    "    f.write(\"hello\\n\")\n",
    "\n",
    "\n",
    "\n"
   ],
   "metadata": {
    "collapsed": false,
    "pycharm": {
     "name": "#%%\n"
    }
   }
  },
  {
   "cell_type": "code",
   "execution_count": 19,
   "outputs": [
    {
     "name": "stdout",
     "output_type": "stream",
     "text": [
      "Num 1, Word one\n",
      "Num 2, Word two\n",
      "index[0]Num 1, Word one\n",
      "index[1]Num 2, Word two\n"
     ]
    }
   ],
   "source": [
    "# to iterate over two dif list with dif sizes, to avoid out of range\n",
    "\n",
    "num_list = [1, 2, 3, 4]\n",
    "word_list = [\"one\", \"two\"]\n",
    "\n",
    "for num_v, word_v in zip(num_list, word_list):\n",
    "    print(f\"Num {num_v}, Word {word_v}\")\n",
    "\n",
    "\n",
    "# to use index\n",
    "\n",
    "for index, (num_v,word_v) in enumerate(zip(num_list, word_list)):\n",
    "    print(f\"index[{index}]Num {num_v}, Word {word_v}\")"
   ],
   "metadata": {
    "collapsed": false,
    "pycharm": {
     "name": "#%%\n"
    }
   }
  },
  {
   "cell_type": "code",
   "execution_count": null,
   "outputs": [],
   "source": [],
   "metadata": {
    "collapsed": false,
    "pycharm": {
     "name": "#%%\n"
    }
   }
  }
 ],
 "metadata": {
  "kernelspec": {
   "display_name": "Python 3",
   "language": "python",
   "name": "python3"
  },
  "language_info": {
   "codemirror_mode": {
    "name": "ipython",
    "version": 2
   },
   "file_extension": ".py",
   "mimetype": "text/x-python",
   "name": "python",
   "nbconvert_exporter": "python",
   "pygments_lexer": "ipython2",
   "version": "2.7.6"
  }
 },
 "nbformat": 4,
 "nbformat_minor": 0
}