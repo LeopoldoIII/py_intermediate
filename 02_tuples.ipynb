{
 "cells": [
  {
   "cell_type": "markdown",
   "metadata": {},
   "source": [
    "# Tuples\n",
    "\n",
    "Tuple is a collection data type that is ordered and immutable, it is a similar to a list with a main difference to the tuple cannot be changed after its creation. \n",
    "A "
   ]
  },
  {
   "cell_type": "code",
   "execution_count": 3,
   "metadata": {},
   "outputs": [
    {
     "name": "stdout",
     "output_type": "stream",
     "text": [
      "('max', 28, 'Boston')\n",
      "Type\n",
      "<class 'tuple'>\n"
     ]
    }
   ],
   "source": [
    "my_tuple = 'max', 28, 'Boston'\n",
    "# my_tuple = ('max',)\n",
    "# my_tuple = tuple(['max', 28, 'Boston'])\n",
    "print(my_tuple)\n",
    "print('Type: ')\n",
    "print(type(my_tuple))"
   ]
  },
  {
   "cell_type": "markdown",
   "metadata": {},
   "source": [
    "# Size Count"
   ]
  },
  {
   "cell_type": "code",
   "execution_count": 9,
   "metadata": {},
   "outputs": [
    {
     "name": "stdout",
     "output_type": "stream",
     "text": [
      "Size of ('a', 'p', 'p', 'l', 'e')\n",
      "5\n",
      "Count of p inside of ('a', 'p', 'p', 'l', 'e')\n",
      "2\n"
     ]
    }
   ],
   "source": [
    "\n",
    "\n",
    "other_tuple = ('a', 'p', 'p', 'l', 'e')\n",
    "\n",
    "print(f'Size of {other_tuple}')\n",
    "print(len(other_tuple))\n",
    "\n",
    "print(f'Count of p inside of {other_tuple}')\n",
    "print(other_tuple.count('p'))\n"
   ]
  },
  {
   "cell_type": "markdown",
   "metadata": {},
   "source": [
    "# Tuple to List"
   ]
  },
  {
   "cell_type": "code",
   "execution_count": 11,
   "metadata": {},
   "outputs": [
    {
     "name": "stdout",
     "output_type": "stream",
     "text": [
      "['max', 28, 'Boston']\n"
     ]
    }
   ],
   "source": [
    "my_tuple = list(my_tuple)\n",
    "print(my_tuple)"
   ]
  },
  {
   "cell_type": "markdown",
   "metadata": {},
   "source": [
    "# Slicing"
   ]
  },
  {
   "cell_type": "code",
   "execution_count": 2,
   "metadata": {},
   "outputs": [
    {
     "name": "stdout",
     "output_type": "stream",
     "text": [
      "[3, 4, 5]\n"
     ]
    }
   ],
   "source": [
    "a = (1, 2, 3, 4, 5, 6, 7, 8, 9, 0)\n",
    "\n",
    "# [from:to:steps]\n",
    "b = a[2:5]\n",
    "\n",
    "print(b)"
   ]
  },
  {
   "cell_type": "markdown",
   "metadata": {},
   "source": [
    "# Unpack "
   ]
  },
  {
   "cell_type": "code",
   "execution_count": 6,
   "metadata": {},
   "outputs": [
    {
     "name": "stdout",
     "output_type": "stream",
     "text": [
      "('Max', 2, 'Boston')\n",
      "Max\n",
      "2\n",
      "Boston\n",
      "0\n",
      "[1, 2, 3]\n",
      "4\n"
     ]
    }
   ],
   "source": [
    "my_tuple = \"Max\", 2, \"Boston\"\n",
    "\n",
    "name, age, city = my_tuple\n",
    "\n",
    "print(my_tuple)\n",
    "print(name)\n",
    "print(age)\n",
    "print(city)\n",
    "\n",
    "\n",
    "a = (1, 2, 3, 4)\n",
    "\n",
    "# Unpack Multiple elements \n",
    "\n",
    "my_tuple = (0,1,2,3,4)\n",
    "\n",
    "i1, *i2, i3 = my_tuple\n",
    "\n",
    "print(i1)\n",
    "print(i2)\n",
    "print(i3)"
   ]
  },
  {
   "cell_type": "markdown",
   "metadata": {},
   "source": [
    "# Bytes List Vs Tuple"
   ]
  },
  {
   "cell_type": "code",
   "execution_count": 7,
   "metadata": {},
   "outputs": [
    {
     "name": "stdout",
     "output_type": "stream",
     "text": [
      "104 bytes\n",
      "88 bytes\n"
     ]
    }
   ],
   "source": [
    "import sys\n",
    "\n",
    "my_list = [0,1,2, 'hello', True]\n",
    "my_tuple = (0,1,2, 'hello', True)\n",
    "print(sys.getsizeof(my_list), 'bytes')\n",
    "print(sys.getsizeof(my_tuple), 'bytes')"
   ]
  },
  {
   "cell_type": "code",
   "execution_count": 11,
   "metadata": {},
   "outputs": [
    {
     "name": "stdout",
     "output_type": "stream",
     "text": [
      "0.3097737499992945\n",
      "0.04665891700278735\n"
     ]
    }
   ],
   "source": [
    "import timeit\n",
    "\n",
    "print(timeit.timeit(stmt=\"[0,1,2,3,4,5]\", number=10000000))\n",
    "print(timeit.timeit(stmt=\"(0,1,2,3,4,5)\", number=10000000))\n"
   ]
  }
 ],
 "metadata": {
  "interpreter": {
   "hash": "d43ee5a56a3c30df61d87417ae264515958b29df7e53d32d00dd47bed14faa84"
  },
  "kernelspec": {
   "display_name": "Python 3.7.0 ('venv': venv)",
   "language": "python",
   "name": "python3"
  },
  "language_info": {
   "codemirror_mode": {
    "name": "ipython",
    "version": 3
   },
   "file_extension": ".py",
   "mimetype": "text/x-python",
   "name": "python",
   "nbconvert_exporter": "python",
   "pygments_lexer": "ipython3",
   "version": "3.7.0"
  },
  "orig_nbformat": 4
 },
 "nbformat": 4,
 "nbformat_minor": 2
}
