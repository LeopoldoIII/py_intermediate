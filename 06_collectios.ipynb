{
 "cells": [
  {
   "cell_type": "code",
   "execution_count": 10,
   "metadata": {},
   "outputs": [
    {
     "name": "stdout",
     "output_type": "stream",
     "text": [
      "Counter({'a': 3, 'c': 3, 'b': 2})\n",
      "dict_keys(['a', 'b', 'c'])\n",
      "dict_values([3, 2, 3])\n",
      "[('a', 3)]\n",
      "a\n",
      "['a', 'a', 'a', 'b', 'b', 'c', 'c', 'c']\n",
      "['a', 'a', 'a', 'b', 'b', 'c', 'c', 'c']\n"
     ]
    }
   ],
   "source": [
    "from collections import Counter\n",
    "\n",
    "a= \"aaabbccc\"\n",
    "my_counter = Counter(a)\n",
    "print(my_counter)\n",
    "\n",
    "#keys \n",
    "print(my_counter.keys())\n",
    "\n",
    "#values \n",
    "print(my_counter.values())\n",
    "\n",
    "#most common \n",
    "print(my_counter.most_common(1))\n",
    "print(my_counter.most_common(1)[0][0])\n",
    "\n",
    "print(list(a))\n",
    "print(list(my_counter.elements()))\n",
    "#\n",
    "\n"
   ]
  },
  {
   "cell_type": "code",
   "execution_count": 13,
   "metadata": {},
   "outputs": [
    {
     "name": "stdout",
     "output_type": "stream",
     "text": [
      "Point(x=1, y=-4)\n",
      "1\n",
      "-4\n"
     ]
    }
   ],
   "source": [
    "from collections import namedtuple\n",
    "\n",
    "Point = namedtuple('Point', 'x,y')\n",
    "pt = Point(1, -4)\n",
    "print(pt)\n",
    "print(pt.x)\n",
    "print(pt.y)\n"
   ]
  },
  {
   "cell_type": "code",
   "execution_count": 14,
   "metadata": {},
   "outputs": [
    {
     "name": "stdout",
     "output_type": "stream",
     "text": [
      "OrderedDict([('a', 1), ('b', 2), ('c', 3), ('d', 4)])\n"
     ]
    }
   ],
   "source": [
    "# ordere dict works since 3.7 python ver like the normal way \n",
    "# ordered_dict = {}\n",
    "from collections import OrderedDict\n",
    "\n",
    "ordered_dict = OrderedDict() \n",
    "ordered_dict['a'] = 1\n",
    "ordered_dict['b'] = 2\n",
    "ordered_dict['c'] = 3\n",
    "ordered_dict['d'] = 4\n",
    "print(ordered_dict)\n",
    "\n"
   ]
  },
  {
   "cell_type": "code",
   "execution_count": 17,
   "metadata": {},
   "outputs": [
    {
     "name": "stdout",
     "output_type": "stream",
     "text": [
      "defaultdict(<class 'list'>, {'a': 1, 'b': 2})\n",
      "2\n",
      "[]\n"
     ]
    }
   ],
   "source": [
    "from collections import defaultdict\n",
    "d = defaultdict(list) # int, float, list \n",
    "d['a'] = 1\n",
    "d['b'] = 2\n",
    "\n",
    "print(d)\n",
    "print(d['b'])\n",
    "print(d['c']) # in this case returns an empty list\n"
   ]
  },
  {
   "cell_type": "code",
   "execution_count": 39,
   "metadata": {},
   "outputs": [
    {
     "name": "stdout",
     "output_type": "stream",
     "text": [
      "deque([4, 1, 2, 3])\n",
      "deque([4, 1, 2])\n",
      "deque([1, 2])\n",
      "deque([1, 2, 3])\n",
      "deque([4, 1, 2, 3])\n"
     ]
    },
    {
     "data": {
      "text/plain": [
       "deque([1, 2, 3, 4])"
      ]
     },
     "execution_count": 39,
     "metadata": {},
     "output_type": "execute_result"
    }
   ],
   "source": [
    "from collections import deque\n",
    "\n",
    "test_list = deque()\n",
    "\n",
    "test_list.append(1)\n",
    "test_list.append(2)\n",
    "test_list.append(3)\n",
    "\n",
    "test_list.appendleft(4)\n",
    "\n",
    "print(test_list)\n",
    "\n",
    "test_list.pop() # remove from right \n",
    "\n",
    "print(test_list)\n",
    "\n",
    "element = test_list.popleft() # from left\n",
    "\n",
    "print(test_list)\n",
    "\n",
    "test_list.extend([3])\n",
    "\n",
    "print(test_list)\n",
    "\n",
    "test_list.extendleft([4])\n",
    "\n",
    "print(test_list)\n",
    "\n",
    "size = len(test_list)\n",
    "\n",
    "test_list.rotate(-1)\n",
    "\n",
    "test_list\n"
   ]
  }
 ],
 "metadata": {
  "kernelspec": {
   "display_name": "venv",
   "language": "python",
   "name": "python3"
  },
  "language_info": {
   "codemirror_mode": {
    "name": "ipython",
    "version": 3
   },
   "file_extension": ".py",
   "mimetype": "text/x-python",
   "name": "python",
   "nbconvert_exporter": "python",
   "pygments_lexer": "ipython3",
   "version": "3.9.0"
  },
  "orig_nbformat": 4
 },
 "nbformat": 4,
 "nbformat_minor": 2
}
