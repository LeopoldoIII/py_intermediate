{
 "cells": [
  {
   "metadata": {},
   "cell_type": "markdown",
   "source": "FILTER",
   "id": "24733551b8799221"
  },
  {
   "cell_type": "code",
   "id": "initial_id",
   "metadata": {
    "collapsed": true,
    "ExecuteTime": {
     "end_time": "2024-08-17T14:55:00.974068Z",
     "start_time": "2024-08-17T14:55:00.967500Z"
    }
   },
   "source": [
    "numbers = [1, 2, 3, 4, 5, 6, 7, 8, 9, 10]\n",
    "evens = list(filter(lambda x: x % 2 == 0, numbers))\n",
    "print(evens)"
   ],
   "outputs": [
    {
     "name": "stdout",
     "output_type": "stream",
     "text": [
      "[2, 4, 6, 8, 10]\n"
     ]
    }
   ],
   "execution_count": 2
  },
  {
   "metadata": {
    "ExecuteTime": {
     "end_time": "2024-08-17T14:56:11.151749Z",
     "start_time": "2024-08-17T14:56:11.145523Z"
    }
   },
   "cell_type": "code",
   "source": [
    "evens = [x for x in numbers if x % 2 == 0]\n",
    "print(evens)"
   ],
   "id": "4c3f42bfc15fc737",
   "outputs": [
    {
     "name": "stdout",
     "output_type": "stream",
     "text": [
      "[2, 4, 6, 8, 10]\n"
     ]
    }
   ],
   "execution_count": 4
  },
  {
   "metadata": {},
   "cell_type": "markdown",
   "source": [
    "### **Exercise: Filtering and Mapping Ages**\n",
    "Objective: You have a list of ages and you want to filter out the ages that are below 18. Then, for the remaining ages, you want to calculate their birth year assuming the current year is 2024."
   ],
   "id": "8c45ada98209074d"
  },
  {
   "metadata": {},
   "cell_type": "markdown",
   "source": "",
   "id": "21108a6351996873"
  },
  {
   "metadata": {
    "ExecuteTime": {
     "end_time": "2024-08-28T03:45:53.385964Z",
     "start_time": "2024-08-28T03:45:53.376653Z"
    }
   },
   "cell_type": "code",
   "source": [
    "from typing import List\n",
    "\n",
    "ages = [12, 17, 19, 24, 16, 45, 20, 7, 30]\n",
    "\n",
    "def filter_ages(ages: List[int], by_age: int) -> List[int]:\n",
    "    return [age for age in ages if age >= by_age]\n",
    "\n",
    "adult_age = filter_ages(ages, 18)\n",
    "print(\"Adults {} \".format(adult_age))\n",
    "\n",
    "birth_years = [2024 - age for age in adult_age]\n",
    "print(\"Birt year {}\".fo"
   ],
   "id": "d2ee328051bc72a",
   "outputs": [
    {
     "name": "stdout",
     "output_type": "stream",
     "text": [
      "Adults [19, 24, 45, 20, 30] \n",
      "Birt year [2005, 2000, 1979, 2004, 1994]\n"
     ]
    }
   ],
   "execution_count": 12
  }
 ],
 "metadata": {
  "kernelspec": {
   "display_name": "Python 3",
   "language": "python",
   "name": "python3"
  },
  "language_info": {
   "codemirror_mode": {
    "name": "ipython",
    "version": 2
   },
   "file_extension": ".py",
   "mimetype": "text/x-python",
   "name": "python",
   "nbconvert_exporter": "python",
   "pygments_lexer": "ipython2",
   "version": "2.7.6"
  }
 },
 "nbformat": 4,
 "nbformat_minor": 5
}
