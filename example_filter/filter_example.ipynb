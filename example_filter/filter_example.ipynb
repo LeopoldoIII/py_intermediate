{
 "cells": [
  {
   "cell_type": "markdown",
   "id": "24733551b8799221",
   "metadata": {},
   "source": [
    "FILTER"
   ]
  },
  {
   "cell_type": "code",
   "execution_count": 2,
   "id": "initial_id",
   "metadata": {
    "ExecuteTime": {
     "end_time": "2024-08-17T14:55:00.974068Z",
     "start_time": "2024-08-17T14:55:00.967500Z"
    },
    "collapsed": true
   },
   "outputs": [
    {
     "name": "stdout",
     "output_type": "stream",
     "text": [
      "[2, 4, 6, 8, 10]\n"
     ]
    }
   ],
   "source": [
    "numbers = [1, 2, 3, 4, 5, 6, 7, 8, 9, 10]\n",
    "evens = list(filter(lambda x: x % 2 == 0, numbers))\n",
    "print(evens)"
   ]
  },
  {
   "cell_type": "code",
   "execution_count": 4,
   "id": "4c3f42bfc15fc737",
   "metadata": {
    "ExecuteTime": {
     "end_time": "2024-08-17T14:56:11.151749Z",
     "start_time": "2024-08-17T14:56:11.145523Z"
    }
   },
   "outputs": [
    {
     "name": "stdout",
     "output_type": "stream",
     "text": [
      "[2, 4, 6, 8, 10]\n"
     ]
    }
   ],
   "source": [
    "evens = [x for x in numbers if x % 2 == 0]\n",
    "print(evens)"
   ]
  },
  {
   "cell_type": "markdown",
   "id": "8c45ada98209074d",
   "metadata": {},
   "source": [
    "### **Exercise: Filtering and Mapping Ages**\n",
    "Objective: You have a list of ages and you want to filter out the ages that are below 18. Then, for the remaining ages, you want to calculate their birth year assuming the current year is 2024."
   ]
  },
  {
   "cell_type": "markdown",
   "id": "21108a6351996873",
   "metadata": {},
   "source": []
  },
  {
   "cell_type": "code",
   "execution_count": 12,
   "id": "d2ee328051bc72a",
   "metadata": {
    "ExecuteTime": {
     "end_time": "2024-08-28T03:45:53.385964Z",
     "start_time": "2024-08-28T03:45:53.376653Z"
    }
   },
   "outputs": [
    {
     "name": "stdout",
     "output_type": "stream",
     "text": [
      "Adults [19, 24, 45, 20, 30] \n",
      "Birt year [2005, 2000, 1979, 2004, 1994]\n"
     ]
    }
   ],
   "source": [
    "from typing import List\n",
    "\n",
    "ages = [12, 17, 19, 24, 16, 45, 20, 7, 30]\n",
    "\n",
    "def filter_ages(ages: List[int], by_age: int) -> List[int]:\n",
    "    return [age for age in ages if age >= by_age]\n",
    "\n",
    "adult_age = filter_ages(ages, 18)\n",
    "print(\"Adults {} \".format(adult_age))\n",
    "\n",
    "birth_years = [2024 - age for age in adult_age]\n",
    "print(\"Birt year {}\".format(), )"
   ]
  },
  {
   "cell_type": "code",
   "id": "cefd432f",
   "metadata": {
    "ExecuteTime": {
     "end_time": "2025-02-06T02:59:46.487035Z",
     "start_time": "2025-02-06T02:59:46.475364Z"
    }
   },
   "source": [
    "# Exercise 1: Filter Even Numbers\n",
    "# Write a function that filters out only the even numbers from a list.\n",
    "\n",
    "numbers = [1, 2, 3, 4, 5, 6, 7, 8, 9, 10]\n",
    "\n",
    "[num for num in numbers if num % 2 == 0]"
   ],
   "outputs": [
    {
     "data": {
      "text/plain": [
       "[2, 4, 6, 8, 10]"
      ]
     },
     "execution_count": 1,
     "metadata": {},
     "output_type": "execute_result"
    }
   ],
   "execution_count": 1
  },
  {
   "metadata": {
    "ExecuteTime": {
     "end_time": "2025-02-06T03:01:45.671137Z",
     "start_time": "2025-02-06T03:01:45.661085Z"
    }
   },
   "cell_type": "code",
   "source": [
    "# Exercise 2: Filter Words with More Than 5 Letters\n",
    "# Write a function that filters out words longer than 5 letters.\n",
    "\n",
    "words = [\"apple\", \"banana\", \"cat\", \"elephant\", \"dog\", \"grape\"]\n",
    "\n",
    "[word for word in words if len(word) > 5]"
   ],
   "id": "11584ff45014bb03",
   "outputs": [
    {
     "data": {
      "text/plain": [
       "['banana', 'elephant']"
      ]
     },
     "execution_count": 2,
     "metadata": {},
     "output_type": "execute_result"
    }
   ],
   "execution_count": 2
  },
  {
   "metadata": {
    "ExecuteTime": {
     "end_time": "2025-02-06T03:04:06.774126Z",
     "start_time": "2025-02-06T03:04:06.763786Z"
    }
   },
   "cell_type": "code",
   "source": [
    "# Exercise 3: Filter Positive Numbers\n",
    "# Filter out only the positive numbers from a list.\n",
    "\n",
    "numbers = [-10, -5, 0, 3, 8, -2, 7, 1]\n",
    "[num for num in numbers if num > 0]"
   ],
   "id": "54560799a2eb6952",
   "outputs": [
    {
     "data": {
      "text/plain": [
       "[3, 8, 7, 1]"
      ]
     },
     "execution_count": 3,
     "metadata": {},
     "output_type": "execute_result"
    }
   ],
   "execution_count": 3
  },
  {
   "metadata": {
    "ExecuteTime": {
     "end_time": "2025-02-06T03:12:01.284417Z",
     "start_time": "2025-02-06T03:12:01.277351Z"
    }
   },
   "cell_type": "code",
   "source": [
    "# Exercise 4: Filter Vowels from a String\n",
    "# Write a function that removes vowels from a given string.\n",
    "text = \"Hello, how are you?\"\n",
    "\n",
    "\"\".join(char for char in text if char.lower() not in 'aeiou')"
   ],
   "id": "29016eda4bea4cf9",
   "outputs": [
    {
     "data": {
      "text/plain": [
       "'H l l ,   h w   r   y ?'"
      ]
     },
     "execution_count": 10,
     "metadata": {},
     "output_type": "execute_result"
    }
   ],
   "execution_count": 10
  },
  {
   "metadata": {
    "ExecuteTime": {
     "end_time": "2025-02-06T03:09:51.457063Z",
     "start_time": "2025-02-06T03:09:51.448693Z"
    }
   },
   "cell_type": "code",
   "source": [
    "# Exercise 5: Filter Palindromes\n",
    "# Filter out only the palindromes from a list of words.\n",
    "\n",
    "words = [\"level\", \"python\", \"madam\", \"code\", \"radar\", \"hello\"]\n",
    "\n",
    "[word for word in words if word == word[::-1]]\n"
   ],
   "id": "5a1d24f0b38ca821",
   "outputs": [
    {
     "data": {
      "text/plain": [
       "['level', 'madam', 'radar']"
      ]
     },
     "execution_count": 7,
     "metadata": {},
     "output_type": "execute_result"
    }
   ],
   "execution_count": 7
  }
 ],
 "metadata": {
  "kernelspec": {
   "display_name": "Python 3",
   "language": "python",
   "name": "python3"
  },
  "language_info": {
   "codemirror_mode": {
    "name": "ipython",
    "version": 2
   },
   "file_extension": ".py",
   "mimetype": "text/x-python",
   "name": "python",
   "nbconvert_exporter": "python",
   "pygments_lexer": "ipython2",
   "version": "3.7.9"
  }
 },
 "nbformat": 4,
 "nbformat_minor": 5
}
