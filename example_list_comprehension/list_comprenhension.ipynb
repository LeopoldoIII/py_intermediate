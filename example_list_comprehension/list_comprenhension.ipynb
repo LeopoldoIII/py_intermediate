{
 "cells": [
  {
   "metadata": {},
   "cell_type": "markdown",
   "source": "List comprehension",
   "id": "78519a69e43d7651"
  },
  {
   "cell_type": "code",
   "id": "initial_id",
   "metadata": {
    "collapsed": true,
    "ExecuteTime": {
     "end_time": "2024-08-17T15:21:25.461967Z",
     "start_time": "2024-08-17T15:21:25.458266Z"
    }
   },
   "source": [
    "# cuadrados de los números pares en una lista\n",
    "\n",
    "numbers = [1, 2, 3, 4, 5, 6]\n",
    "squared_evens = list(map(lambda x: x ** 2, filter(lambda x: x % 2 == 0, numbers)))\n",
    "print(squared_evens)"
   ],
   "outputs": [
    {
     "name": "stdout",
     "output_type": "stream",
     "text": [
      "[4, 16, 36]\n"
     ]
    }
   ],
   "execution_count": 1
  },
  {
   "metadata": {
    "ExecuteTime": {
     "end_time": "2024-08-17T15:23:39.542400Z",
     "start_time": "2024-08-17T15:23:39.534942Z"
    }
   },
   "cell_type": "code",
   "source": [
    "squared_odd = [x ** 2 for x in numbers if x % 2 == 0]\n",
    "print(squared_odd)"
   ],
   "id": "76dcc96c549c5332",
   "outputs": [
    {
     "name": "stdout",
     "output_type": "stream",
     "text": [
      "[4, 16, 36]\n"
     ]
    }
   ],
   "execution_count": 2
  },
  {
   "metadata": {
    "ExecuteTime": {
     "end_time": "2024-08-17T15:32:15.600836Z",
     "start_time": "2024-08-17T15:32:15.595546Z"
    }
   },
   "cell_type": "code",
   "source": [
    "numbers = [1, 2, 3, 4, 5, 6]\n",
    "squared_evens = list(map(lambda x: x ** 2, filter(lambda x: x % 2 == 0, numbers)))\n",
    "print(squared_evens)\n"
   ],
   "id": "bdf5b7f72a73c8ad",
   "outputs": [
    {
     "name": "stdout",
     "output_type": "stream",
     "text": [
      "[4, 16, 36]\n"
     ]
    }
   ],
   "execution_count": 5
  },
  {
   "metadata": {
    "ExecuteTime": {
     "end_time": "2024-08-17T15:31:50.761590Z",
     "start_time": "2024-08-17T15:31:50.757982Z"
    }
   },
   "cell_type": "code",
   "source": [
    "numbers = [1, 2, 3, 4, 5, 6]\n",
    "test = [x ** 2 for x in numbers if x % 2 == 0]\n",
    "print(test)"
   ],
   "id": "80e873a4f41baca6",
   "outputs": [
    {
     "name": "stdout",
     "output_type": "stream",
     "text": [
      "[4, 16, 36]\n"
     ]
    }
   ],
   "execution_count": 4
  }
 ],
 "metadata": {
  "kernelspec": {
   "display_name": "Python 3",
   "language": "python",
   "name": "python3"
  },
  "language_info": {
   "codemirror_mode": {
    "name": "ipython",
    "version": 2
   },
   "file_extension": ".py",
   "mimetype": "text/x-python",
   "name": "python",
   "nbconvert_exporter": "python",
   "pygments_lexer": "ipython2",
   "version": "2.7.6"
  }
 },
 "nbformat": 4,
 "nbformat_minor": 5
}
