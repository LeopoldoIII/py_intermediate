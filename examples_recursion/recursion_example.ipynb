{
 "cells": [
  {
   "cell_type": "code",
   "execution_count": null,
   "id": "initial_id",
   "metadata": {
    "collapsed": true
   },
   "outputs": [],
   "source": [
    ""
   ]
  },
  {
   "metadata": {},
   "cell_type": "code",
   "outputs": [],
   "execution_count": null,
   "source": [
    "def sum_numbers(n):\n",
    "    if n == 0:\n",
    "        return 0\n",
    "    else:\n",
    "        return n + sum_numbers(n - 1)\n",
    "\n",
    "print(sum_numbers(5))"
   ],
   "id": "d2f455194ce93795"
  },
  {
   "metadata": {
    "ExecuteTime": {
     "end_time": "2025-02-27T18:18:03.838999Z",
     "start_time": "2025-02-27T18:18:03.831156Z"
    }
   },
   "cell_type": "code",
   "source": [
    "def reverse_string(string):\n",
    "    string = string.replace(\" \", \"\")\n",
    "    if len(string) == 0:\n",
    "        return \"\"\n",
    "    else:\n",
    "        return string[-1] + reverse_string(string[:-1])\n",
    "    \n",
    "print(reverse_string(\"hello\"))\n",
    "print(reverse_string(\"hello hello\"))\n",
    "print(reverse_string(\"hello world\"))  # Output: \"dlrowolleh\"\n",
    "print(reverse_string(\"recursion is fun\"))  # Output: \"nufsisnoisrucer\"\n",
    "\n",
    "\n",
    "def reverse_words(string):\n",
    "    words = string.split()\n",
    "    reversed_words = [word[::-1] for word in words]\n",
    "    return \" \".join(reversed_words)\n",
    "\n",
    "print(reverse_words(\"hello world\"))\n",
    "print(reverse_words(\"recursion is fun\"))"
   ],
   "id": "2e3f6086eba08132",
   "outputs": [
    {
     "name": "stdout",
     "output_type": "stream",
     "text": [
      "olleh\n",
      "olleholleh\n",
      "dlrowolleh\n",
      "nufsinoisrucer\n",
      "olleh dlrow\n",
      "noisrucer si nuf\n"
     ]
    }
   ],
   "execution_count": 5
  }
 ],
 "metadata": {
  "kernelspec": {
   "display_name": "Python 3",
   "language": "python",
   "name": "python3"
  },
  "language_info": {
   "codemirror_mode": {
    "name": "ipython",
    "version": 2
   },
   "file_extension": ".py",
   "mimetype": "text/x-python",
   "name": "python",
   "nbconvert_exporter": "python",
   "pygments_lexer": "ipython2",
   "version": "2.7.6"
  }
 },
 "nbformat": 4,
 "nbformat_minor": 5
}
