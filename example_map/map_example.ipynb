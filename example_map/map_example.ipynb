{
 "cells": [
  {
   "metadata": {},
   "cell_type": "markdown",
   "source": "MAP",
   "id": "f36969aaa0a49097"
  },
  {
   "metadata": {
    "ExecuteTime": {
     "end_time": "2024-08-17T14:50:19.886710Z",
     "start_time": "2024-08-17T14:50:19.881660Z"
    }
   },
   "cell_type": "code",
   "source": [
    "# map\n",
    "numbers = [1, 2, 3, 4, 5, 6, 7, 8, 9, 10]\n",
    "squared = list(map(lambda x: x ** 2, numbers))\n",
    "print(squared)"
   ],
   "id": "ecaaf673c39ad68a",
   "outputs": [
    {
     "name": "stdout",
     "output_type": "stream",
     "text": [
      "[1, 4, 9, 16, 25, 36, 49, 64, 81, 100]\n"
     ]
    }
   ],
   "execution_count": 1
  },
  {
   "metadata": {
    "ExecuteTime": {
     "end_time": "2024-08-17T14:53:00.691149Z",
     "start_time": "2024-08-17T14:53:00.683207Z"
    }
   },
   "cell_type": "code",
   "source": [
    "# list comprenhension\n",
    "squared = [x ** 2 for x in numbers]\n",
    "print(squared)"
   ],
   "id": "ba70dababe4f3016",
   "outputs": [
    {
     "name": "stdout",
     "output_type": "stream",
     "text": [
      "[1, 4, 9, 16, 25, 36, 49, 64, 81, 100]\n"
     ]
    }
   ],
   "execution_count": 3
  },
  {
   "metadata": {
    "ExecuteTime": {
     "end_time": "2024-08-25T00:08:40.402381Z",
     "start_time": "2024-08-25T00:08:40.395590Z"
    }
   },
   "cell_type": "code",
   "source": [
    "temperature_celsius = [0, 20, 37, 100]\n",
    "emperature_fahrenheit = [c * 9/5 + 32 for c in temperature_celsius]\n",
    "print(emperature_fahrenheit)"
   ],
   "id": "7843ae110fdabbb8",
   "outputs": [
    {
     "name": "stdout",
     "output_type": "stream",
     "text": [
      "[32.0, 68.0, 98.6, 212.0]\n"
     ]
    }
   ],
   "execution_count": 12
  },
  {
   "metadata": {
    "ExecuteTime": {
     "end_time": "2024-08-25T00:10:59.796263Z",
     "start_time": "2024-08-25T00:10:59.790194Z"
    }
   },
   "cell_type": "code",
   "source": [
    "names = [\"alice\", \"bob\", \"charlie\", \"david\"]\n",
    "names_upper_case = [name.upper() for name in names]\n",
    "print(names_upper_case)"
   ],
   "id": "be25f6f23be7f7fb",
   "outputs": [
    {
     "name": "stdout",
     "output_type": "stream",
     "text": [
      "['ALICE', 'BOB', 'CHARLIE', 'DAVID']\n"
     ]
    }
   ],
   "execution_count": 14
  },
  {
   "metadata": {
    "ExecuteTime": {
     "end_time": "2024-08-25T00:28:36.053459Z",
     "start_time": "2024-08-25T00:28:36.048730Z"
    }
   },
   "cell_type": "code",
   "source": [
    "products = [\n",
    "    {\"name\": \"Laptop\", \"price\": 900},\n",
    "    {\"name\": \"Mouse\", \"price\": 15},\n",
    "    {\"name\": \"Keyboard\", \"price\": 30},\n",
    "    {\"name\": \"Monitor\", \"price\": 150},\n",
    "    {\"name\": \"USB Cable\", \"price\": 10}\n",
    "]\n",
    "\n",
    "products_less_than_20 = [\n",
    "    {\"name\": \"{} Discount\".format(product[\"name\"]), \"price\": product[\"price\"] * 0.9}\n",
    "    for product in products if product[\"price\"] < 20]\n",
    "\n",
    "print(products_less_than_20)"
   ],
   "id": "3584a33cdb38d7d9",
   "outputs": [
    {
     "name": "stdout",
     "output_type": "stream",
     "text": [
      "[{'name': 'Mouse Discount', 'price': 13.5}, {'name': 'USB Cable Discount', 'price': 9.0}]\n"
     ]
    }
   ],
   "execution_count": 30
  },
  {
   "metadata": {
    "ExecuteTime": {
     "end_time": "2024-08-25T00:37:14.016298Z",
     "start_time": "2024-08-25T00:37:14.006145Z"
    }
   },
   "cell_type": "code",
   "source": [
    "items = [\n",
    "    {\"name\": \"Laptop\", \"category\": \"Electronics\", \"price\": 1000},\n",
    "    {\"name\": \"Bananas\", \"category\": \"Groceries\", \"price\": 2},\n",
    "    {\"name\": \"Jeans\", \"category\": \"Clothing\", \"price\": 50},\n",
    "    {\"name\": \"Smartphone\", \"category\": \"Electronics\", \"price\": 500},\n",
    "    {\"name\": \"T-shirt\", \"category\": \"Clothing\", \"price\": 20},\n",
    "    {\"name\": \"Bread\", \"category\": \"Groceries\", \"price\": 3}\n",
    "]\n",
    "\n",
    "discount_rates = {\n",
    "    \"Electronics\": 0.2,  # 20% discount\n",
    "    \"Groceries\": 0.05,   # 5% discount\n",
    "    \"Clothing\": 0.1      # 10% discount\n",
    "}\n",
    "\n",
    "discounted_items = [\n",
    "    {\"name\": item[\"name\"], \n",
    "     \"category\": item[\"category\"],\n",
    "     \"price\": item[\"price\"] * (1 - discount_rates[item[\"category\"]])\n",
    "     } \n",
    "    for item in items    \n",
    "]\n",
    "\n",
    "print(discounted_items)\n",
    "\n"
   ],
   "id": "dac65e0ffa2ee01c",
   "outputs": [
    {
     "name": "stdout",
     "output_type": "stream",
     "text": [
      "[{'name': 'Laptop', 'category': 'Electronics', 'price': 800.0}, {'name': 'Bananas', 'category': 'Groceries', 'price': 1.9}, {'name': 'Jeans', 'category': 'Clothing', 'price': 45.0}, {'name': 'Smartphone', 'category': 'Electronics', 'price': 400.0}, {'name': 'T-shirt', 'category': 'Clothing', 'price': 18.0}, {'name': 'Bread', 'category': 'Groceries', 'price': 2.8499999999999996}]\n"
     ]
    }
   ],
   "execution_count": 33
  }
 ],
 "metadata": {
  "kernelspec": {
   "display_name": "Python 3",
   "language": "python",
   "name": "python3"
  },
  "language_info": {
   "codemirror_mode": {
    "name": "ipython",
    "version": 2
   },
   "file_extension": ".py",
   "mimetype": "text/x-python",
   "name": "python",
   "nbconvert_exporter": "python",
   "pygments_lexer": "ipython2",
   "version": "2.7.6"
  }
 },
 "nbformat": 4,
 "nbformat_minor": 5
}
