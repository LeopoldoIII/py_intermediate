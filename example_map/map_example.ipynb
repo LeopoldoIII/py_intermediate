{
 "cells": [
  {
   "metadata": {},
   "cell_type": "markdown",
   "source": "MAP",
   "id": "f36969aaa0a49097"
  },
  {
   "metadata": {
    "ExecuteTime": {
     "end_time": "2024-08-17T14:50:19.886710Z",
     "start_time": "2024-08-17T14:50:19.881660Z"
    }
   },
   "cell_type": "code",
   "source": [
    "# map\n",
    "numbers = [1, 2, 3, 4, 5, 6, 7, 8, 9, 10]\n",
    "squared = list(map(lambda x: x ** 2, numbers))\n",
    "print(squared)"
   ],
   "id": "ecaaf673c39ad68a",
   "outputs": [
    {
     "name": "stdout",
     "output_type": "stream",
     "text": [
      "[1, 4, 9, 16, 25, 36, 49, 64, 81, 100]\n"
     ]
    }
   ],
   "execution_count": 1
  },
  {
   "metadata": {
    "ExecuteTime": {
     "end_time": "2024-08-17T14:53:00.691149Z",
     "start_time": "2024-08-17T14:53:00.683207Z"
    }
   },
   "cell_type": "code",
   "source": [
    "# list comprenhension\n",
    "squared = [x ** 2 for x in numbers]\n",
    "print(squared)"
   ],
   "id": "ba70dababe4f3016",
   "outputs": [
    {
     "name": "stdout",
     "output_type": "stream",
     "text": [
      "[1, 4, 9, 16, 25, 36, 49, 64, 81, 100]\n"
     ]
    }
   ],
   "execution_count": 3
  },
  {
   "metadata": {},
   "cell_type": "code",
   "outputs": [],
   "execution_count": null,
   "source": "",
   "id": "7843ae110fdabbb8"
  }
 ],
 "metadata": {
  "kernelspec": {
   "display_name": "Python 3",
   "language": "python",
   "name": "python3"
  },
  "language_info": {
   "codemirror_mode": {
    "name": "ipython",
    "version": 2
   },
   "file_extension": ".py",
   "mimetype": "text/x-python",
   "name": "python",
   "nbconvert_exporter": "python",
   "pygments_lexer": "ipython2",
   "version": "2.7.6"
  }
 },
 "nbformat": 4,
 "nbformat_minor": 5
}
