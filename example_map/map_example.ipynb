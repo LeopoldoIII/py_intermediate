{
 "cells": [
  {
   "metadata": {},
   "cell_type": "markdown",
   "source": [
    "MAP\n",
    "\n",
    "The map() function is used to apply a given function to every item of an iterable, such as a list or tuple, and returns a map object (which is an iterator)."
   ],
   "id": "f36969aaa0a49097"
  },
  {
   "metadata": {
    "ExecuteTime": {
     "end_time": "2024-08-17T14:50:19.886710Z",
     "start_time": "2024-08-17T14:50:19.881660Z"
    }
   },
   "cell_type": "code",
   "source": [
    "# map\n",
    "numbers = [1, 2, 3, 4, 5, 6, 7, 8, 9, 10]\n",
    "squared = list(map(lambda x: x ** 2, numbers))\n",
    "print(squared)"
   ],
   "id": "ecaaf673c39ad68a",
   "outputs": [
    {
     "name": "stdout",
     "output_type": "stream",
     "text": [
      "[1, 4, 9, 16, 25, 36, 49, 64, 81, 100]\n"
     ]
    }
   ],
   "execution_count": 1
  },
  {
   "metadata": {
    "ExecuteTime": {
     "end_time": "2024-08-17T14:53:00.691149Z",
     "start_time": "2024-08-17T14:53:00.683207Z"
    }
   },
   "cell_type": "code",
   "source": [
    "# list comprenhension\n",
    "squared = [x ** 2 for x in numbers]\n",
    "print(squared)"
   ],
   "id": "ba70dababe4f3016",
   "outputs": [
    {
     "name": "stdout",
     "output_type": "stream",
     "text": [
      "[1, 4, 9, 16, 25, 36, 49, 64, 81, 100]\n"
     ]
    }
   ],
   "execution_count": 3
  },
  {
   "metadata": {
    "ExecuteTime": {
     "end_time": "2025-03-10T00:20:47.726Z",
     "start_time": "2025-03-10T00:20:47.719531Z"
    }
   },
   "cell_type": "code",
   "source": [
    "temperature_celsius = [0, 20, 37, 100]\n",
    "emperature_fahrenheit = [c * 9/5 + 32 for c in temperature_celsius]\n",
    "print(emperature_fahrenheit)"
   ],
   "id": "7843ae110fdabbb8",
   "outputs": [
    {
     "name": "stdout",
     "output_type": "stream",
     "text": [
      "[32.0, 68.0, 98.6, 212.0]\n"
     ]
    }
   ],
   "execution_count": 2
  },
  {
   "metadata": {
    "ExecuteTime": {
     "end_time": "2024-08-25T00:10:59.796263Z",
     "start_time": "2024-08-25T00:10:59.790194Z"
    }
   },
   "cell_type": "code",
   "source": [
    "names = [\"alice\", \"bob\", \"charlie\", \"david\"]\n",
    "names_upper_case = [name.upper() for name in names]\n",
    "print(names_upper_case)"
   ],
   "id": "be25f6f23be7f7fb",
   "outputs": [
    {
     "name": "stdout",
     "output_type": "stream",
     "text": [
      "['ALICE', 'BOB', 'CHARLIE', 'DAVID']\n"
     ]
    }
   ],
   "execution_count": 14
  },
  {
   "metadata": {
    "ExecuteTime": {
     "end_time": "2024-08-25T00:28:36.053459Z",
     "start_time": "2024-08-25T00:28:36.048730Z"
    }
   },
   "cell_type": "code",
   "source": [
    "products = [\n",
    "    {\"name\": \"Laptop\", \"price\": 900},\n",
    "    {\"name\": \"Mouse\", \"price\": 15},\n",
    "    {\"name\": \"Keyboard\", \"price\": 30},\n",
    "    {\"name\": \"Monitor\", \"price\": 150},\n",
    "    {\"name\": \"USB Cable\", \"price\": 10}\n",
    "]\n",
    "\n",
    "products_less_than_20 = [\n",
    "    {\"name\": \"{} Discount\".format(product[\"name\"]), \"price\": product[\"price\"] * 0.9}\n",
    "    for product in products if product[\"price\"] < 20]\n",
    "\n",
    "print(products_less_than_20)"
   ],
   "id": "3584a33cdb38d7d9",
   "outputs": [
    {
     "name": "stdout",
     "output_type": "stream",
     "text": [
      "[{'name': 'Mouse Discount', 'price': 13.5}, {'name': 'USB Cable Discount', 'price': 9.0}]\n"
     ]
    }
   ],
   "execution_count": 30
  },
  {
   "metadata": {
    "ExecuteTime": {
     "end_time": "2025-03-10T00:24:45.906504Z",
     "start_time": "2025-03-10T00:24:45.901824Z"
    }
   },
   "cell_type": "code",
   "source": [
    "products = [\n",
    "    {\"name\": \"Laptop\", \"price\": 900},\n",
    "    {\"name\": \"Mouse\", \"price\": 15},\n",
    "    {\"name\": \"Keyboard\", \"price\": 30},\n",
    "    {\"name\": \"Monitor\", \"price\": 150},\n",
    "    {\"name\": \"USB Cable\", \"price\": 10}\n",
    "]\n",
    "\n",
    "products_less_than_20 = []\n",
    "\n",
    "for product in products:\n",
    "    if product[\"price\"] < 20:\n",
    "        discounted_product = {\n",
    "            \"name\": \"{} Discount\".format(product[\"name\"]),\n",
    "            \"price\": product[\"price\"] * 0.9\n",
    "        }\n",
    "        products_less_than_20.append(discounted_product)\n",
    "\n",
    "print(products_less_than_20)"
   ],
   "id": "f755efc3bdbf54eb",
   "outputs": [
    {
     "name": "stdout",
     "output_type": "stream",
     "text": [
      "{'name': 'Mouse Discount', 'price': 13.5}\n"
     ]
    }
   ],
   "execution_count": 4
  },
  {
   "metadata": {
    "ExecuteTime": {
     "end_time": "2024-08-25T00:37:14.016298Z",
     "start_time": "2024-08-25T00:37:14.006145Z"
    }
   },
   "cell_type": "code",
   "source": [
    "items = [\n",
    "    {\"name\": \"Laptop\", \"category\": \"Electronics\", \"price\": 1000},\n",
    "    {\"name\": \"Bananas\", \"category\": \"Groceries\", \"price\": 2},\n",
    "    {\"name\": \"Jeans\", \"category\": \"Clothing\", \"price\": 50},\n",
    "    {\"name\": \"Smartphone\", \"category\": \"Electronics\", \"price\": 500},\n",
    "    {\"name\": \"T-shirt\", \"category\": \"Clothing\", \"price\": 20},\n",
    "    {\"name\": \"Bread\", \"category\": \"Groceries\", \"price\": 3}\n",
    "]\n",
    "\n",
    "discount_rates = {\n",
    "    \"Electronics\": 0.2,  # 20% discount\n",
    "    \"Groceries\": 0.05,   # 5% discount\n",
    "    \"Clothing\": 0.1      # 10% discount\n",
    "}\n",
    "\n",
    "discounted_items = [\n",
    "    {\"name\": item[\"name\"], \n",
    "     \"category\": item[\"category\"],\n",
    "     \"price\": item[\"price\"] * (1 - discount_rates[item[\"category\"]])\n",
    "     } \n",
    "    for item in items    \n",
    "]\n",
    "\n",
    "print(discounted_items)"
   ],
   "id": "dac65e0ffa2ee01c",
   "outputs": [
    {
     "name": "stdout",
     "output_type": "stream",
     "text": [
      "[{'name': 'Laptop', 'category': 'Electronics', 'price': 800.0}, {'name': 'Bananas', 'category': 'Groceries', 'price': 1.9}, {'name': 'Jeans', 'category': 'Clothing', 'price': 45.0}, {'name': 'Smartphone', 'category': 'Electronics', 'price': 400.0}, {'name': 'T-shirt', 'category': 'Clothing', 'price': 18.0}, {'name': 'Bread', 'category': 'Groceries', 'price': 2.8499999999999996}]\n"
     ]
    }
   ],
   "execution_count": 33
  },
  {
   "metadata": {},
   "cell_type": "markdown",
   "source": [
    "Exercise: Apply Discounts Based on Stock Availability Using List Comprehension and Dictionaries\n",
    "Objective: You have a list of dictionaries representing items in a store's inventory. Each item has a name, price, and stock (the number of items available). You need to apply different discount rates based on the stock availability of the item. Use list comprehension to achieve this.\n",
    "\n",
    "Discount Rules:\n",
    "* If stock is 1-5: No discount.\n",
    "* If stock is 6-10: 5% discount.\n",
    "* If stock is more than 10: 15% discount."
   ],
   "id": "9704e5b41fa9c4c7"
  },
  {
   "metadata": {
    "ExecuteTime": {
     "end_time": "2024-08-25T17:05:31.505178Z",
     "start_time": "2024-08-25T17:05:31.498117Z"
    }
   },
   "cell_type": "code",
   "source": [
    "inventory = [\n",
    "    {\"name\": \"Laptop\", \"price\": 1000, \"stock\": 4},\n",
    "    {\"name\": \"Mouse\", \"price\": 20, \"stock\": 8},\n",
    "    {\"name\": \"Keyboard\", \"price\": 50, \"stock\": 2},\n",
    "    {\"name\": \"Monitor\", \"price\": 200, \"stock\": 15},\n",
    "    {\"name\": \"USB Cable\", \"price\": 10, \"stock\": 11}\n",
    "]\n",
    "\n",
    "# disconut rates \n",
    "def get_discount_rate(quantity):\n",
    "    if 1 <= quantity <= 2:\n",
    "        return 0.0  # No discount\n",
    "    elif 3 <= quantity <= 5:\n",
    "        return 0.05  # 5% discount\n",
    "    elif quantity >= 6:\n",
    "        return 0.1  # 10% discount\n",
    "\n",
    "final_discount = [\n",
    "\n",
    "    {\"name\": item[\"name\"],\n",
    "     \"price\": item[\"price\"] * (1 - get_discount_rate(item[\"stock\"])),\n",
    "     \"stock\": item[\"stock\"]\n",
    "     }\n",
    "    for item in inventory\n",
    "]\n",
    "\n",
    "print(final_discount)"
   ],
   "id": "83364a51c1fb87d7",
   "outputs": [
    {
     "name": "stdout",
     "output_type": "stream",
     "text": [
      "[{'name': 'Laptop', 'price': 950.0, 'stock': 4}, {'name': 'Mouse', 'price': 18.0, 'stock': 8}, {'name': 'Keyboard', 'price': 50.0, 'stock': 2}, {'name': 'Monitor', 'price': 180.0, 'stock': 15}, {'name': 'USB Cable', 'price': 9.0, 'stock': 11}]\n"
     ]
    }
   ],
   "execution_count": 3
  },
  {
   "metadata": {},
   "cell_type": "markdown",
   "source": [
    "## Exercise: Apply Discounts Based on Age\n",
    "\n",
    "Objective: You are building a system that applies discounts to individuals based on their age. The goal is to create a list of dictionaries that includes the name, age, and applicable discount rate for each individual.\n",
    "\n",
    "Discount Rules:\n",
    "\n",
    "* Children between the ages of 5 and 12 receive a 50% discount.\n",
    "* Teenagers between the ages of 13 and 17 receive a 25% discount.\n",
    "* Seniors over the age of 65 receive a 30% discount.\n",
    "* No discount applies to other age groups."
   ],
   "id": "25a95549b4377b67"
  },
  {
   "metadata": {
    "ExecuteTime": {
     "end_time": "2025-02-18T14:27:38.304537Z",
     "start_time": "2025-02-18T14:27:38.279981Z"
    }
   },
   "cell_type": "code",
   "source": [
    "names_ages_list = [\n",
    "    \n",
    "     {\"name\": \"Alice\", \"age\": 18},\n",
    "     {\"name\": \"Pedro\", \"age\": 0},\n",
    "     {\"name\": \"Juan\", \"age\": 5},\n",
    "     {\"name\": \"Ramiro\", \"age\": 17},\n",
    "     {\"name\": \"Federico\", \"age\": 64},\n",
    "     {\"name\": \"Alberto\", \"age\": 66},\n",
    "    \n",
    "]\n",
    "    \n",
    "def filter_age(age):\n",
    "    if 5 <= age <= 12:\n",
    "        return 0.5\n",
    "    elif 13 <= age <= 17:\n",
    "        return 0.25\n",
    "    elif age > 65:\n",
    "        return 0.3\n",
    "    else:\n",
    "        return 0.0\n",
    "    \n",
    "final_discount = [\n",
    "    {\n",
    "        \"name\": person[\"name\"],\n",
    "        \"age\": person[\"age\"],\n",
    "        \"discount\": filter_age(person[\"age\"])\n",
    "    }\n",
    "    for person in names_ages_list\n",
    "]\n",
    "    \n",
    "print(final_discount) "
   ],
   "id": "daf891fcdd4c398a",
   "outputs": [
    {
     "name": "stdout",
     "output_type": "stream",
     "text": [
      "[{'name': 'Alice', 'age': 18, 'discount': 0.0}, {'name': 'Pedro', 'age': 0, 'discount': 0.0}, {'name': 'Juan', 'age': 5, 'discount': 0.5}, {'name': 'Ramiro', 'age': 17, 'discount': 0.25}, {'name': 'Federico', 'age': 64, 'discount': 0.0}, {'name': 'Alberto', 'age': 66, 'discount': 0.3}]\n"
     ]
    }
   ],
   "execution_count": 24
  },
  {
   "metadata": {
    "ExecuteTime": {
     "end_time": "2025-02-18T14:21:04.617556Z",
     "start_time": "2025-02-18T14:21:04.611100Z"
    }
   },
   "cell_type": "code",
   "source": [
    "numbers_str = [\"10\", \"20\", \"30\", \"40\"]\n",
    "number_int = [int(num) for num in numbers_str] "
   ],
   "id": "b48d52fbd40f76c7",
   "outputs": [
    {
     "name": "stdout",
     "output_type": "stream",
     "text": [
      "[10, 20, 30, 40]\n"
     ]
    }
   ],
   "execution_count": 18
  },
  {
   "metadata": {
    "ExecuteTime": {
     "end_time": "2025-02-18T14:25:44.536777Z",
     "start_time": "2025-02-18T14:25:44.530976Z"
    }
   },
   "cell_type": "code",
   "source": [
    "words = [\"Hola\", \"Python\", \"Map\", \"Ejercicio\"]\n",
    "\n",
    "size_words = [len(word) for word in words] \n"
   ],
   "id": "e24bc44d05062802",
   "outputs": [],
   "execution_count": 23
  },
  {
   "metadata": {
    "ExecuteTime": {
     "end_time": "2025-03-10T00:41:33.989577Z",
     "start_time": "2025-03-10T00:41:33.980530Z"
    }
   },
   "cell_type": "code",
   "source": [
    "products = [\n",
    "    {\"name\": \"Smartphone\", \"price\": 500},\n",
    "    {\"name\": \"Headphones\", \"price\": 50},\n",
    "    {\"name\": \"Tablet\", \"price\": 300},\n",
    "    {\"name\": \"Charger\", \"price\": 25},\n",
    "    {\"name\": \"Smartwatch\", \"price\": 200}\n",
    "]\n",
    "\n",
    "# Given a list of products with name and price,\n",
    "# generate a new list with products whose price is greater than or equal to 100.\n",
    "# Apply a 20% discount to their price.\n",
    "# Additionally, add \" - SALE\" to the product name.\n",
    "\n",
    "def apply_discount_to_expensive_products(products):\n",
    "    discounted_products = []\n",
    "\n",
    "    for product in products:\n",
    "        if product[\"price\"] >= 100:\n",
    "            final_price = product[\"price\"] * 0.8  # Apply a 20% discount\n",
    "            discounted_product = {\n",
    "                \"name\": product[\"name\"] + \" - SALE\",  # Modify the product name\n",
    "                \"price\": final_price\n",
    "            }\n",
    "            discounted_products.append(discounted_product)\n",
    "\n",
    "    return discounted_products\n",
    "\n",
    "discounted_products = apply_discount_to_expensive_products(products)\n",
    "print(discounted_products)\n"
   ],
   "id": "b1db979bb9868334",
   "outputs": [
    {
     "name": "stdout",
     "output_type": "stream",
     "text": [
      "[{'name': 'Smartphone - SALE', 'price': 400.0}, {'name': 'Tablet - SALE', 'price': 240.0}, {'name': 'Smartwatch - SALE', 'price': 160.0}]\n"
     ]
    }
   ],
   "execution_count": 10
  }
 ],
 "metadata": {
  "kernelspec": {
   "display_name": "Python 3",
   "language": "python",
   "name": "python3"
  },
  "language_info": {
   "codemirror_mode": {
    "name": "ipython",
    "version": 2
   },
   "file_extension": ".py",
   "mimetype": "text/x-python",
   "name": "python",
   "nbconvert_exporter": "python",
   "pygments_lexer": "ipython2",
   "version": "2.7.6"
  }
 },
 "nbformat": 4,
 "nbformat_minor": 5
}
