{
 "cells": [
  {
   "cell_type": "code",
   "execution_count": 19,
   "outputs": [
    {
     "name": "stdout",
     "output_type": "stream",
     "text": [
      "200\n",
      "True\n",
      "{'Connection': 'keep-alive', 'Content-Length': '3436', 'Server': 'nginx', 'Content-Type': 'text/html; charset=UTF-8', 'Last-Modified': 'Thu, 19 May 2022 03:59:31 GMT', 'ETag': 'W/\"6285c0a3-2111\"', 'Expires': 'Thu, 19 May 2022 04:06:25 GMT', 'Cache-Control': 'max-age=300', 'Content-Encoding': 'gzip', 'Accept-Ranges': 'bytes', 'Date': 'Fri, 20 May 2022 03:27:10 GMT', 'Via': '1.1 varnish', 'Age': '89', 'X-Served-By': 'cache-dfw18636-DFW', 'X-Cache': 'HIT', 'X-Cache-Hits': '1', 'X-Timer': 'S1653017231.682978,VS0,VE1', 'Vary': 'Accept-Encoding'}\n"
     ]
    }
   ],
   "source": [
    "import requests\n",
    "\n",
    "request = requests.get(\"http://xkcd.com/353\")\n",
    "\n",
    "print(request.status_code) # 200\n",
    "print(request.ok) # True\n",
    "\n",
    "print(request.headers)\n",
    "\n",
    "\n"
   ],
   "metadata": {
    "collapsed": false,
    "pycharm": {
     "name": "#%%\n"
    }
   }
  },
  {
   "cell_type": "code",
   "execution_count": 17,
   "outputs": [],
   "source": [
    "# save image\n",
    "\n",
    "request = requests.get(\"https://imgs.xkcd.com/comics/python.png\")\n",
    "\n",
    "with open(\"comic.png\", \"wb\") as f:\n",
    "    f.write(request.content)\n"
   ],
   "metadata": {
    "collapsed": false,
    "pycharm": {
     "name": "#%%\n"
    }
   }
  },
  {
   "cell_type": "code",
   "execution_count": 21,
   "outputs": [
    {
     "name": "stdout",
     "output_type": "stream",
     "text": [
      "{\n",
      "  \"args\": {\n",
      "    \"count\": \"25\", \n",
      "    \"page\": \"2\"\n",
      "  }, \n",
      "  \"headers\": {\n",
      "    \"Accept\": \"*/*\", \n",
      "    \"Accept-Encoding\": \"gzip, deflate\", \n",
      "    \"Host\": \"httpbin.org\", \n",
      "    \"User-Agent\": \"python-requests/2.27.1\", \n",
      "    \"X-Amzn-Trace-Id\": \"Root=1-62870bb9-6a5a58a213fd563576d78aac\"\n",
      "  }, \n",
      "  \"origin\": \"189.216.204.30\", \n",
      "  \"url\": \"https://httpbin.org/get?page=2&count=25\"\n",
      "}\n",
      "\n",
      "https://httpbin.org/get?page=2&count=25\n"
     ]
    }
   ],
   "source": [
    "# advanced features\n",
    "\n",
    "payload = {\n",
    "    \"page\": 2,\n",
    "    \"count\": 25\n",
    "}\n",
    "request = requests.get(\"https://httpbin.org/get\", params=payload)\n",
    "\n",
    "print(request.text)\n",
    "\n",
    "print(request.url)"
   ],
   "metadata": {
    "collapsed": false,
    "pycharm": {
     "name": "#%%\n"
    }
   }
  },
  {
   "cell_type": "code",
   "execution_count": 28,
   "outputs": [
    {
     "name": "stdout",
     "output_type": "stream",
     "text": [
      "{'args': {}, 'data': '', 'files': {}, 'form': {'password': 'password', 'username': 'text'}, 'headers': {'Accept': '*/*', 'Accept-Encoding': 'gzip, deflate', 'Content-Length': '31', 'Content-Type': 'application/x-www-form-urlencoded', 'Host': 'httpbin.org', 'User-Agent': 'python-requests/2.27.1', 'X-Amzn-Trace-Id': 'Root=1-62870e52-681f0cbb15668044073a7958'}, 'json': None, 'origin': '189.216.204.30', 'url': 'https://httpbin.org/post'}\n",
      "{'password': 'password', 'username': 'text'}\n",
      "https://httpbin.org/post\n"
     ]
    }
   ],
   "source": [
    "# advanced features\n",
    "\n",
    "payload = {\n",
    "    \"username\": \"text\",\n",
    "    \"password\": \"password\"\n",
    "    }\n",
    "request = requests.post(\"https://httpbin.org/post\", data=payload)\n",
    "response = request.json()\n",
    "\n",
    "print(response) # dictonary\n",
    "print(response[\"form\"]) # dictonary\n",
    "\n",
    "\n",
    "print(request.url)"
   ],
   "metadata": {
    "collapsed": false,
    "pycharm": {
     "name": "#%%\n"
    }
   }
  },
  {
   "cell_type": "code",
   "execution_count": 31,
   "outputs": [
    {
     "name": "stdout",
     "output_type": "stream",
     "text": [
      "200\n"
     ]
    }
   ],
   "source": [
    "# advanced features\n",
    "\n",
    "request = requests.get(\"https://httpbin.org/basic-auth/corey/testing\", auth=(\"corey\", \"testing\"))\n",
    "\n",
    "print(request.status_code) # dictonary\n"
   ],
   "metadata": {
    "collapsed": false,
    "pycharm": {
     "name": "#%%\n"
    }
   }
  }
 ],
 "metadata": {
  "kernelspec": {
   "display_name": "Python 3",
   "language": "python",
   "name": "python3"
  },
  "language_info": {
   "codemirror_mode": {
    "name": "ipython",
    "version": 2
   },
   "file_extension": ".py",
   "mimetype": "text/x-python",
   "name": "python",
   "nbconvert_exporter": "python",
   "pygments_lexer": "ipython2",
   "version": "2.7.6"
  }
 },
 "nbformat": 4,
 "nbformat_minor": 0
}