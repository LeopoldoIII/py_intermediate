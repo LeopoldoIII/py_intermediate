{
 "cells": [
  {
   "cell_type": "markdown",
   "metadata": {
    "pycharm": {
     "name": "#%% md\n"
    }
   },
   "source": [
    "# List\n",
    "\n",
    "List: Ordered, mutable, allows duplicate elements "
   ]
  },
  {
   "cell_type": "code",
   "execution_count": 2,
   "metadata": {
    "pycharm": {
     "name": "#%%\n"
    }
   },
   "outputs": [
    {
     "name": "stdout",
     "output_type": "stream",
     "text": [
      "['banana', 'cherry', 'apple']\n"
     ]
    }
   ],
   "source": [
    "# decleare a list \n",
    "mylist = [\"banana\", \"cherry\", \"apple\"]\n",
    "print(mylist)"
   ]
  },
  {
   "cell_type": "markdown",
   "metadata": {
    "pycharm": {
     "name": "#%% md\n"
    }
   },
   "source": [
    "# access to an element \n"
   ]
  },
  {
   "cell_type": "code",
   "execution_count": 3,
   "metadata": {
    "pycharm": {
     "name": "#%%\n"
    }
   },
   "outputs": [
    {
     "name": "stdout",
     "output_type": "stream",
     "text": [
      "apple\n"
     ]
    }
   ],
   "source": [
    "item = mylist[2]\n",
    "print(item)\n"
   ]
  },
  {
   "cell_type": "markdown",
   "metadata": {
    "pycharm": {
     "name": "#%% md\n"
    }
   },
   "source": [
    "# iterate over the list"
   ]
  },
  {
   "cell_type": "markdown",
   "metadata": {
    "pycharm": {
     "name": "#%% md\n"
    }
   },
   "source": [
    "\n",
    "\n",
    "for i in mylist:\n",
    "    print(i)"
   ]
  },
  {
   "cell_type": "code",
   "execution_count": 4,
   "metadata": {
    "pycharm": {
     "name": "#%%\n"
    }
   },
   "outputs": [
    {
     "name": "stdout",
     "output_type": "stream",
     "text": [
      "banana\n",
      "cherry\n",
      "apple\n"
     ]
    }
   ],
   "source": [
    "for i in mylist:\n",
    "    print(i)"
   ]
  },
  {
   "cell_type": "markdown",
   "metadata": {
    "pycharm": {
     "name": "#%% md\n"
    }
   },
   "source": [
    "# Get size of a list "
   ]
  },
  {
   "cell_type": "code",
   "execution_count": 5,
   "metadata": {
    "pycharm": {
     "name": "#%%\n"
    }
   },
   "outputs": [
    {
     "name": "stdout",
     "output_type": "stream",
     "text": [
      "3\n"
     ]
    }
   ],
   "source": [
    "print(len(mylist))"
   ]
  },
  {
   "cell_type": "markdown",
   "metadata": {
    "pycharm": {
     "name": "#%% md\n"
    }
   },
   "source": [
    "# verify if element exist in a list \n",
    "\n"
   ]
  },
  {
   "cell_type": "code",
   "execution_count": 6,
   "metadata": {
    "pycharm": {
     "name": "#%%\n"
    }
   },
   "outputs": [
    {
     "name": "stdout",
     "output_type": "stream",
     "text": [
      "yes\n"
     ]
    }
   ],
   "source": [
    "if 'banana' in mylist:\n",
    "    print('yes')\n",
    "else:\n",
    "    print('no')"
   ]
  },
  {
   "cell_type": "markdown",
   "metadata": {
    "pycharm": {
     "name": "#%% md\n"
    }
   },
   "source": [
    "# Append elements \n"
   ]
  },
  {
   "cell_type": "code",
   "execution_count": 7,
   "metadata": {
    "pycharm": {
     "name": "#%%\n"
    }
   },
   "outputs": [
    {
     "name": "stdout",
     "output_type": "stream",
     "text": [
      "['banana', 'cherry', 'apple', 'lemon']\n"
     ]
    }
   ],
   "source": [
    "# append to the end of the list\n",
    "mylist.append('lemon')\n",
    "print(mylist)"
   ]
  },
  {
   "cell_type": "code",
   "execution_count": 8,
   "metadata": {
    "pycharm": {
     "name": "#%%\n"
    }
   },
   "outputs": [
    {
     "name": "stdout",
     "output_type": "stream",
     "text": [
      "['banana', 'blueberry', 'cherry', 'apple', 'lemon']\n"
     ]
    }
   ],
   "source": [
    "# append by index\n",
    "mylist.insert(1,'blueberry')\n",
    "print(mylist)"
   ]
  },
  {
   "cell_type": "markdown",
   "metadata": {
    "pycharm": {
     "name": "#%% md\n"
    }
   },
   "source": [
    "# Remove items "
   ]
  },
  {
   "cell_type": "code",
   "execution_count": 9,
   "metadata": {
    "pycharm": {
     "name": "#%%\n"
    }
   },
   "outputs": [
    {
     "name": "stdout",
     "output_type": "stream",
     "text": [
      "lemon\n",
      "['banana', 'blueberry', 'cherry', 'apple']\n"
     ]
    }
   ],
   "source": [
    "# returns the last item and also removes from the list\n",
    "\n",
    "item = mylist.pop()\n",
    "print(item)\n",
    "print(mylist)"
   ]
  },
  {
   "cell_type": "code",
   "execution_count": 10,
   "metadata": {
    "pycharm": {
     "name": "#%%\n"
    }
   },
   "outputs": [
    {
     "name": "stdout",
     "output_type": "stream",
     "text": [
      "Cherry removed\n",
      "['banana', 'blueberry', 'apple']\n",
      "Reverse list\n",
      "['apple', 'blueberry', 'banana']\n",
      "Sort list\n",
      "['apple', 'banana', 'blueberry']\n",
      "Clear list\n",
      "[]\n"
     ]
    }
   ],
   "source": [
    "# Removes an epecifc element \n",
    "\n",
    "mylist.remove('cherry')\n",
    "print('Cherry removed')\n",
    "print(mylist)\n",
    "\n",
    "# if element is not in list \n",
    "# mylist.remove('cherri')\n",
    "# ValueError: item is not in list \n",
    "\n",
    "# Reverse the list \n",
    "\n",
    "mylist.reverse()\n",
    "print('Reverse list')\n",
    "print(mylist)\n",
    "\n",
    "# Sort a list \n",
    "mylist.sort()\n",
    "print('Sort list')\n",
    "print(mylist)\n",
    "\n",
    "# Create a new sorted list\n",
    "\n",
    "new_list = sorted(mylist)\n",
    "\n",
    "\n",
    "\n",
    "# clear a list \n",
    "mylist.clear()\n",
    "print('Clear list')\n",
    "print(mylist)"
   ]
  },
  {
   "cell_type": "markdown",
   "metadata": {
    "pycharm": {
     "name": "#%% md\n"
    }
   },
   "source": [
    "# Tricks"
   ]
  },
  {
   "cell_type": "code",
   "execution_count": 11,
   "metadata": {
    "pycharm": {
     "name": "#%%\n"
    }
   },
   "outputs": [
    {
     "name": "stdout",
     "output_type": "stream",
     "text": [
      "[0, 0, 0, 0, 0]\n",
      "[0, 0, 0, 0, 0, 1, 2, 3, 4, 5]\n"
     ]
    }
   ],
   "source": [
    "# List of same element x times\n",
    "list_one = [0] * 5\n",
    "print(list_one)\n",
    "\n",
    "# concatenate a list\n",
    "\n",
    "list_three = list_one + [1, 2, 3, 4, 5]\n",
    "print(list_three)\n"
   ]
  },
  {
   "cell_type": "markdown",
   "metadata": {
    "pycharm": {
     "name": "#%% md\n"
    }
   },
   "source": [
    "# Slicing"
   ]
  },
  {
   "cell_type": "code",
   "execution_count": 12,
   "metadata": {
    "pycharm": {
     "name": "#%%\n"
    }
   },
   "outputs": [
    {
     "name": "stdout",
     "output_type": "stream",
     "text": [
      "From index 1 to index 5\n",
      "[2, 3, 4, 5]\n",
      "each 2 items\n",
      "[1, 3, 5, 7, 9]\n",
      "Reverse a list \n",
      "[9, 8, 7, 6, 5, 4, 3, 2, 1]\n"
     ]
    }
   ],
   "source": [
    "slicing_list = [1, 2, 3, 4, 5, 6, 7, 8, 9]\n",
    "\n",
    "# [from:untill]\n",
    "# in this case from index 1 to index 5\n",
    "\n",
    "print('From index 1 to index 5')\n",
    "a = slicing_list[1:5]\n",
    "print(a)\n",
    "\n",
    "# [from:untill:step]\n",
    "print('each 2 items')\n",
    "print(slicing_list[::2])\n",
    "\n",
    "# reverse\n",
    "print('Reverse a list ')\n",
    "print(slicing_list[::-1])\n"
   ]
  },
  {
   "cell_type": "markdown",
   "metadata": {
    "pycharm": {
     "name": "#%% md\n"
    }
   },
   "source": [
    "# Copying a list "
   ]
  },
  {
   "cell_type": "code",
   "execution_count": 13,
   "metadata": {
    "pycharm": {
     "name": "#%%\n"
    }
   },
   "outputs": [
    {
     "name": "stdout",
     "output_type": "stream",
     "text": [
      "['🍌, 🍒, 🍏,']\n",
      "['🍌, 🍒, 🍏,', '🍋']\n"
     ]
    }
   ],
   "source": [
    "list_org = ['🍌, 🍒, 🍏,']\n",
    "print(list_org)\n",
    "copy_list = list_org.copy()\n",
    "# copy_list = list(list_org)\n",
    "# copy_list = list_org[:]\n",
    "copy_list.append('🍋')\n",
    "print(copy_list)\n",
    "\n"
   ]
  },
  {
   "cell_type": "markdown",
   "metadata": {
    "pycharm": {
     "name": "#%% md\n"
    }
   },
   "source": [
    "# list comprehension"
   ]
  },
  {
   "cell_type": "code",
   "execution_count": 14,
   "metadata": {
    "pycharm": {
     "name": "#%%\n"
    }
   },
   "outputs": [
    {
     "name": "stdout",
     "output_type": "stream",
     "text": [
      "[1, 2, 3, 4, 5, 6]\n",
      "Square each element\n",
      "[1, 4, 9, 16, 25, 36]\n"
     ]
    }
   ],
   "source": [
    "a = [1, 2, 3, 4, 5, 6]\n",
    "print(a)\n",
    "b = [i * i for i in a]\n",
    "print('Square each element')\n",
    "print(b)"
   ]
  },
  {
   "cell_type": "code",
   "execution_count": 6,
   "metadata": {},
   "outputs": [
    {
     "data": {
      "text/plain": [
       "'Emma'"
      ]
     },
     "execution_count": 6,
     "metadata": {},
     "output_type": "execute_result"
    }
   ],
   "source": [
    "first_line = \"1 4 1 4\"\n",
    "second_line = \"1 6 1 6\"\n",
    "\n",
    "\n",
    "def dice_solution(first_line, second_line):\n",
    "    try:\n",
    "        first_line, second_line = str_to_int(first_line), str_to_int(second_line)\n",
    "        first_result, second_result = sum(first_line), sum(second_line)\n",
    "        if first_result > second_result:\n",
    "            return \"Gunnar\"\n",
    "        elif second_result > first_result:\n",
    "            return \"Emma\"\n",
    "        elif first_result == second_result:\n",
    "            return \"Tie\"\n",
    "    except Exception as err:\n",
    "        print(\"There is and error in the input\")\n",
    "    return None\n",
    "\n",
    "\n",
    "def str_to_int(string):\n",
    "    return [int(x) for x in string.split()]\n",
    "\n",
    "\n",
    "dice_solution(first_line, second_line)\n"
   ]
  },
  {
   "cell_type": "code",
   "execution_count": null,
   "metadata": {},
   "outputs": [],
   "source": [
    "import sys\n",
    "\n",
    "input = []\n",
    "\n",
    "for line in sys.stdin:\n",
    "    input.append(line)\n",
    "\n",
    "\n",
    "def dice_solution(first_line, second_line):\n",
    "    try:\n",
    "        first_line, second_line = str_to_int(first_line), str_to_int(second_line)\n",
    "        first_result, second_result = sum(first_line), sum(second_line)\n",
    "        if first_result > second_result:\n",
    "            return \"Gunnar\"\n",
    "        elif second_result > first_result:\n",
    "            return \"Emma\"\n",
    "        elif first_result == second_result:\n",
    "            return \"Tie\"\n",
    "    except Exception as err:\n",
    "        print(\"There is and error in the input\")\n",
    "    return None\n",
    "\n",
    "\n",
    "def str_to_int(string):\n",
    "    return [int(x) for x in string.split()]\n",
    "\n",
    "\n",
    "print(dice_solution(input[0], input[1]))\n"
   ]
  }
 ],
 "metadata": {
  "interpreter": {
   "hash": "af83555a91d68eac470b8963f3c0966d90101df30699cf1c7fcf6cb8a856b453"
  },
  "kernelspec": {
   "display_name": "Python 3.8.10 ('venv': venv)",
   "language": "python",
   "name": "python3"
  },
  "language_info": {
   "codemirror_mode": {
    "name": "ipython",
    "version": 3
   },
   "file_extension": ".py",
   "mimetype": "text/x-python",
   "name": "python",
   "nbconvert_exporter": "python",
   "pygments_lexer": "ipython3",
   "version": "3.8.10"
  },
  "orig_nbformat": 4,
  "vscode": {
   "interpreter": {
    "hash": "31f2aee4e71d21fbe5cf8b01ff0e069b9275f58929596ceb00d14d90e3e16cd6"
   }
  }
 },
 "nbformat": 4,
 "nbformat_minor": 2
}
