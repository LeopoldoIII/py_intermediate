{
 "cells": [
  {
   "cell_type": "code",
   "execution_count": 1,
   "metadata": {},
   "outputs": [
    {
     "data": {
      "text/plain": [
       "[0, 1, 2, 3, 4, 5, 6, 7, 8, 9, 10]"
      ]
     },
     "execution_count": 1,
     "metadata": {},
     "output_type": "execute_result"
    }
   ],
   "source": [
    "list(range(11))"
   ]
  },
  {
   "cell_type": "code",
   "execution_count": 1,
   "metadata": {},
   "outputs": [
    {
     "data": {
      "text/plain": [
       "[(0, 1), (1, 2), (2, 3)]"
      ]
     },
     "execution_count": 1,
     "metadata": {},
     "output_type": "execute_result"
    }
   ],
   "source": [
    "list(enumerate([1,2,3]))\n"
   ]
  },
  {
   "cell_type": "code",
   "execution_count": 1,
   "metadata": {},
   "outputs": [
    {
     "data": {
      "text/plain": [
       "[(10, 1), (11, 2), (12, 3)]"
      ]
     },
     "execution_count": 1,
     "metadata": {},
     "output_type": "execute_result"
    }
   ],
   "source": [
    "list(enumerate([1,2,3], start=10))"
   ]
  },
  {
   "cell_type": "code",
   "execution_count": 2,
   "metadata": {},
   "outputs": [
    {
     "data": {
      "text/plain": [
       "['fizzbuzz', 22, 14, 'buzz', 97, 'fizz']"
      ]
     },
     "execution_count": 2,
     "metadata": {},
     "output_type": "execute_result"
    }
   ],
   "source": [
    "'''\n",
    "Given a list of integers:\n",
    "\n",
    "1 replace all integres that are evenly divisble by 3 \n",
    "with \"fizz\"\n",
    "2 replace all integers divisible by 5 with \"buzz\"\n",
    "3 Replace all ingegers divisible by both 3 and 5 with \n",
    "\"fizzbuzz\"\n",
    "'''\n",
    "\n",
    "numbers = [45, 22, 14, 65, 97, 72]\n",
    "\n",
    "\n",
    "def fizz_buzz(numbers):\n",
    "    new_list = []\n",
    "    for i in numbers:\n",
    "        if i % 3 == 0 and i % 5 == 0:\n",
    "            i = 'fizzbuzz'\n",
    "        elif i % 3 == 0:\n",
    "            i = 'fizz'\n",
    "        elif i % 5 == 0:\n",
    "            i = 'buzz'\n",
    "        new_list.append(i)\n",
    "    return new_list\n",
    "\n",
    "fizz_buzz(numbers)\n"
   ]
  },
  {
   "cell_type": "code",
   "execution_count": 3,
   "metadata": {},
   "outputs": [
    {
     "data": {
      "text/plain": [
       "['fizzbuzz', 22, 14, 'buzz', 97, 'fizz']"
      ]
     },
     "execution_count": 3,
     "metadata": {},
     "output_type": "execute_result"
    }
   ],
   "source": [
    "\n",
    "def fizz_buzz(numbers):\n",
    "    for i, num in enumerate(numbers):\n",
    "        if num % 3 == 0:\n",
    "            numbers[i] = \"fizz\"\n",
    "        if num % 5 == 0:\n",
    "            numbers[i] = \"buzz\"\n",
    "        if num % 5 == 0 and num % 3 == 0:\n",
    "            numbers[i] = \"fizzbuzz\"\n",
    "    return numbers\n",
    "\n",
    "fizz_buzz(numbers)"
   ]
  },
  {
   "cell_type": "code",
   "execution_count": 11,
   "metadata": {},
   "outputs": [
    {
     "data": {
      "text/plain": [
       "[(0, 'Jerry'), (1, 'Kramer'), (2, 'Elaine'), (3, 'George'), (4, 'Newman')]"
      ]
     },
     "execution_count": 11,
     "metadata": {},
     "output_type": "execute_result"
    }
   ],
   "source": [
    "names = ['Jerry', 'Kramer', 'Elaine', 'George', 'Newman']\n",
    "\n",
    "indexed_names = []\n",
    "for i in range(len(names)):\n",
    "    index_name = (i, names[i])\n",
    "    indexed_names.append(index_name)\n",
    "\n",
    "indexed_names\n",
    "\n"
   ]
  },
  {
   "cell_type": "code",
   "execution_count": 14,
   "metadata": {},
   "outputs": [
    {
     "data": {
      "text/plain": [
       "[(0, 'Jerry'), (1, 'Kramer'), (2, 'Elaine'), (3, 'George'), (4, 'Newman')]"
      ]
     },
     "execution_count": 14,
     "metadata": {},
     "output_type": "execute_result"
    }
   ],
   "source": [
    "indexed_names = []\n",
    "\n",
    "for i, name in enumerate(names):\n",
    "    index_name = (i, name)\n",
    "    indexed_names.append(index_name)\n",
    "indexed_names\n"
   ]
  },
  {
   "metadata": {
    "ExecuteTime": {
     "end_time": "2024-10-17T19:38:23.194790Z",
     "start_time": "2024-10-17T19:38:23.183904Z"
    }
   },
   "cell_type": "code",
   "source": [
    "# Exercise: Reorganize an Array to Place Even Numbers First\n",
    "# Objective: Given an array of integers, write a function that rearranges the array such that all even numbers appear before all odd numbers, without changing the relative order of the even and odd numbers.\n",
    "# Input: [3, 1, 2, 4, 7, 6, 9, 10]\n",
    "# Output: [2, 4, 6, 10, 3, 1, 7, 9]\n",
    "\n",
    "def reorganize_array(array):\n",
    "    even_numbers = [num for num in array if num % 2 == 0]\n",
    "    odd_numbers = [num for num in array if num % 2 != 0]\n",
    "    return even_numbers + odd_numbers\n",
    "\n",
    "reorganize_array([3, 1, 2, 4, 7, 6, 9, 10])    "
   ],
   "outputs": [
    {
     "data": {
      "text/plain": [
       "[2, 4, 6, 10, 3, 1, 7, 9]"
      ]
     },
     "execution_count": 1,
     "metadata": {},
     "output_type": "execute_result"
    }
   ],
   "execution_count": 1
  }
 ],
 "metadata": {
  "kernelspec": {
   "display_name": "Python 3",
   "language": "python",
   "name": "python3"
  },
  "language_info": {
   "codemirror_mode": {
    "name": "ipython",
    "version": 3
   },
   "file_extension": ".py",
   "mimetype": "text/x-python",
   "name": "python",
   "nbconvert_exporter": "python",
   "pygments_lexer": "ipython3",
   "version": "3.9.4"
  },
  "orig_nbformat": 4,
  "vscode": {
   "interpreter": {
    "hash": "3967de046126f7b3a297a807e12c34979c37ca5010c7f67bec59a18dee4d4d56"
   }
  }
 },
 "nbformat": 4,
 "nbformat_minor": 2
}
