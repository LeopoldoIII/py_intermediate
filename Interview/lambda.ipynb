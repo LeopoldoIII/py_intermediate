{
 "cells": [
  {
   "attachments": {},
   "cell_type": "markdown",
   "metadata": {},
   "source": [
    "A lambda function is an anonymous function defined without a name"
   ]
  },
  {
   "cell_type": "code",
   "execution_count": 4,
   "metadata": {},
   "outputs": [
    {
     "data": {
      "text/plain": [
       "3"
      ]
     },
     "execution_count": 4,
     "metadata": {},
     "output_type": "execute_result"
    }
   ],
   "source": [
    "(lambda x: x + 1)(2)\n",
    "\n"
   ]
  },
  {
   "attachments": {},
   "cell_type": "markdown",
   "metadata": {},
   "source": [
    "# lambda & map"
   ]
  },
  {
   "cell_type": "code",
   "execution_count": 1,
   "metadata": {},
   "outputs": [
    {
     "name": "stdout",
     "output_type": "stream",
     "text": [
      "[1, 4, 16, 49]\n"
     ]
    },
    {
     "data": {
      "text/plain": [
       "[2, 4, 8, 14]"
      ]
     },
     "execution_count": 1,
     "metadata": {},
     "output_type": "execute_result"
    }
   ],
   "source": [
    "lst = [1,2,4,7]\n",
    "result = []\n",
    "for e in lst:\n",
    "    result.append(e ** 2)\n",
    "print(result)\n",
    "\n",
    "list(map(lambda x: x ** 2, lst))\n",
    "\n",
    "lst1 = [1,2,4,7]\n",
    "lst2 = [1,2,4,7]\n",
    "\n",
    "list(map(lambda x, y: x + y, lst1, lst2))\n"
   ]
  },
  {
   "attachments": {},
   "cell_type": "markdown",
   "metadata": {},
   "source": [
    "# lambda & filter"
   ]
  },
  {
   "attachments": {},
   "cell_type": "markdown",
   "metadata": {},
   "source": [
    "filter() function to select certain items from\n",
    "an iterable (like lists, sets, tuples, Series, etc.) \n",
    "\n",
    "It takes two arguments:\n",
    "\n",
    "* A function that defines the filtering criteria\n",
    "* An iterable on which the function runs"
   ]
  },
  {
   "cell_type": "code",
   "execution_count": 5,
   "metadata": {},
   "outputs": [
    {
     "name": "stdout",
     "output_type": "stream",
     "text": [
      "[2, 4, 6, 8]\n"
     ]
    },
    {
     "data": {
      "text/plain": [
       "[2, 4, 6, 8]"
      ]
     },
     "execution_count": 5,
     "metadata": {},
     "output_type": "execute_result"
    }
   ],
   "source": [
    "values = [1, 2, 3, 4, 5, 6, 7 , 8, 9]\n",
    "pares = []\n",
    "for value in values:\n",
    "    if value % 2 == 0:\n",
    "        pares.append(value)\n",
    "\n",
    "print(pares)\n",
    "\n",
    "list((filter(lambda x: x % 2 == 0, values)))\n",
    "\n",
    "\n"
   ]
  },
  {
   "attachments": {},
   "cell_type": "markdown",
   "metadata": {},
   "source": [
    "# lambda & reduce"
   ]
  },
  {
   "cell_type": "code",
   "execution_count": null,
   "metadata": {},
   "outputs": [],
   "source": [
    "values = [2,4,6,5,4]\n",
    "result = 0\n",
    "\n",
    "for i in values:\n",
    "    result += i\n",
    "print(result)\n",
    "\n",
    "from functools import reduce\n",
    "reduce(lambda x, y: x + y, values)\n"
   ]
  },
  {
   "attachments": {},
   "cell_type": "markdown",
   "metadata": {},
   "source": [
    "# lambda & sorted  "
   ]
  },
  {
   "cell_type": "code",
   "execution_count": null,
   "metadata": {},
   "outputs": [],
   "source": [
    "ids = ['id1', 'id2', 'id30', 'id3', 'id22', 'id100' ]\n",
    "print(sorted(ids)) # Lexicographic sort "
   ]
  },
  {
   "cell_type": "code",
   "execution_count": null,
   "metadata": {},
   "outputs": [],
   "source": [
    "sorted(ids, key= lambda x: int(x[2:]))\n",
    "\n"
   ]
  },
  {
   "cell_type": "code",
   "execution_count": null,
   "metadata": {},
   "outputs": [],
   "source": [
    "[id[2:] for id in ids]"
   ]
  },
  {
   "cell_type": "code",
   "execution_count": null,
   "metadata": {},
   "outputs": [],
   "source": [
    "skip_verified=False\n",
    "\n",
    "skip_verified is not None"
   ]
  },
  {
   "cell_type": "code",
   "execution_count": 45,
   "metadata": {},
   "outputs": [
    {
     "ename": "AssertionError",
     "evalue": "ERROR",
     "output_type": "error",
     "traceback": [
      "\u001b[0;31m---------------------------------------------------------------------------\u001b[0m",
      "\u001b[0;31mAssertionError\u001b[0m                            Traceback (most recent call last)",
      "Cell \u001b[0;32mIn[45], line 6\u001b[0m\n\u001b[1;32m      1\u001b[0m actual_loss \u001b[39m=\u001b[39m \u001b[39m10\u001b[39m\n\u001b[1;32m      3\u001b[0m PACKETS_LOSS_LIMIT \u001b[39m=\u001b[39m \u001b[39m10\u001b[39m\n\u001b[0;32m----> 6\u001b[0m \u001b[39massert\u001b[39;00m  actual_loss \u001b[39m<\u001b[39m PACKETS_LOSS_LIMIT, \u001b[39mf\u001b[39m\u001b[39m\"\u001b[39m\u001b[39mERROR\u001b[39m\u001b[39m\"\u001b[39m\n",
      "\u001b[0;31mAssertionError\u001b[0m: ERROR"
     ]
    }
   ],
   "source": [
    " \n",
    "\n",
    "actual_loss = 10\n",
    "\n",
    "PACKETS_LOSS_LIMIT = 10\n",
    "\n",
    "\n",
    "assert  actual_loss < PACKETS_LOSS_LIMIT, f\"ERROR\""
   ]
  }
 ],
 "metadata": {
  "kernelspec": {
   "display_name": "venv",
   "language": "python",
   "name": "python3"
  },
  "language_info": {
   "codemirror_mode": {
    "name": "ipython",
    "version": 3
   },
   "file_extension": ".py",
   "mimetype": "text/x-python",
   "name": "python",
   "nbconvert_exporter": "python",
   "pygments_lexer": "ipython3",
   "version": "3.8.10"
  },
  "orig_nbformat": 4,
  "vscode": {
   "interpreter": {
    "hash": "b7d8c531242be85ce9727d8eb22ab5b1f98e0006228c0bde7abc5a27f25c4912"
   }
  }
 },
 "nbformat": 4,
 "nbformat_minor": 2
}
