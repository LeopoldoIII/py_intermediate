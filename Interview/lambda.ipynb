{
 "cells": [
  {
   "attachments": {},
   "cell_type": "markdown",
   "metadata": {},
   "source": [
    "# lambda & map"
   ]
  },
  {
   "cell_type": "code",
   "execution_count": 1,
   "metadata": {},
   "outputs": [
    {
     "name": "stdout",
     "output_type": "stream",
     "text": [
      "[1, 4, 16, 49]\n"
     ]
    },
    {
     "data": {
      "text/plain": [
       "[2, 4, 8, 14]"
      ]
     },
     "execution_count": 1,
     "metadata": {},
     "output_type": "execute_result"
    }
   ],
   "source": [
    "lst = [1,2,4,7]\n",
    "result = []\n",
    "for e in lst:\n",
    "    result.append(e ** 2)\n",
    "print(result)\n",
    "\n",
    "list(map(lambda x: x ** 2, lst))\n",
    "\n",
    "lst1 = [1,2,4,7]\n",
    "lst2 = [1,2,4,7]\n",
    "\n",
    "list(map(lambda x, y: x + y, lst1, lst2))\n"
   ]
  },
  {
   "attachments": {},
   "cell_type": "markdown",
   "metadata": {},
   "source": [
    "# lambda & filter"
   ]
  },
  {
   "cell_type": "code",
   "execution_count": 2,
   "metadata": {},
   "outputs": [
    {
     "name": "stdout",
     "output_type": "stream",
     "text": [
      "[2, 4, 6, 8]\n"
     ]
    },
    {
     "data": {
      "text/plain": [
       "[2, 4, 6, 8]"
      ]
     },
     "execution_count": 2,
     "metadata": {},
     "output_type": "execute_result"
    }
   ],
   "source": [
    "values = [1, 2, 3, 4, 5, 6, 7 , 8, 9]\n",
    "pares = []\n",
    "for value in values:\n",
    "    if value % 2 == 0:\n",
    "        pares.append(value)\n",
    "\n",
    "print(pares)\n",
    "\n",
    "list((filter(lambda x: x % 2 == 0, values)))\n",
    "\n",
    "\n"
   ]
  },
  {
   "attachments": {},
   "cell_type": "markdown",
   "metadata": {},
   "source": [
    "# lambda & reduce"
   ]
  },
  {
   "cell_type": "code",
   "execution_count": 3,
   "metadata": {},
   "outputs": [
    {
     "name": "stdout",
     "output_type": "stream",
     "text": [
      "21\n"
     ]
    },
    {
     "data": {
      "text/plain": [
       "21"
      ]
     },
     "execution_count": 3,
     "metadata": {},
     "output_type": "execute_result"
    }
   ],
   "source": [
    "values = [2,4,6,5,4]\n",
    "result = 0\n",
    "\n",
    "for i in values:\n",
    "    result += i\n",
    "print(result)\n",
    "\n",
    "from functools import reduce\n",
    "reduce(lambda x, y: x + y, values)\n"
   ]
  },
  {
   "attachments": {},
   "cell_type": "markdown",
   "metadata": {},
   "source": [
    "# lambda & sorted  "
   ]
  },
  {
   "cell_type": "code",
   "execution_count": 4,
   "metadata": {},
   "outputs": [
    {
     "name": "stdout",
     "output_type": "stream",
     "text": [
      "['id1', 'id100', 'id2', 'id22', 'id3', 'id30']\n"
     ]
    }
   ],
   "source": [
    "ids = ['id1', 'id2', 'id30', 'id3', 'id22', 'id100' ]\n",
    "print(sorted(ids)) # Lexicographic sort "
   ]
  },
  {
   "cell_type": "code",
   "execution_count": 5,
   "metadata": {},
   "outputs": [
    {
     "data": {
      "text/plain": [
       "['id1', 'id2', 'id3', 'id22', 'id30', 'id100']"
      ]
     },
     "execution_count": 5,
     "metadata": {},
     "output_type": "execute_result"
    }
   ],
   "source": [
    "sorted(ids, key= lambda x: int(x[2:]))\n",
    "\n"
   ]
  },
  {
   "cell_type": "code",
   "execution_count": 6,
   "metadata": {},
   "outputs": [
    {
     "data": {
      "text/plain": [
       "['1', '2', '30', '3', '22', '100']"
      ]
     },
     "execution_count": 6,
     "metadata": {},
     "output_type": "execute_result"
    }
   ],
   "source": [
    "[id[2:] for id in ids]"
   ]
  },
  {
   "cell_type": "code",
   "execution_count": 7,
   "metadata": {},
   "outputs": [
    {
     "data": {
      "text/plain": [
       "True"
      ]
     },
     "execution_count": 7,
     "metadata": {},
     "output_type": "execute_result"
    }
   ],
   "source": [
    "skip_verified=False\n",
    "\n",
    "skip_verified is not None"
   ]
  }
 ],
 "metadata": {
  "kernelspec": {
   "display_name": "Python 3",
   "language": "python",
   "name": "python3"
  },
  "language_info": {
   "codemirror_mode": {
    "name": "ipython",
    "version": 3
   },
   "file_extension": ".py",
   "mimetype": "text/x-python",
   "name": "python",
   "nbconvert_exporter": "python",
   "pygments_lexer": "ipython3",
   "version": "3.9.4"
  },
  "orig_nbformat": 4,
  "vscode": {
   "interpreter": {
    "hash": "3967de046126f7b3a297a807e12c34979c37ca5010c7f67bec59a18dee4d4d56"
   }
  }
 },
 "nbformat": 4,
 "nbformat_minor": 2
}
