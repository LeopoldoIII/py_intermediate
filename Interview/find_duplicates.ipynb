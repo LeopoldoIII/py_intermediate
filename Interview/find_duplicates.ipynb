{
 "cells": [
  {
   "metadata": {},
   "cell_type": "markdown",
   "source": "",
   "id": "a2c207ea25300384"
  },
  {
   "metadata": {},
   "cell_type": "markdown",
   "source": [
    "## Find Duplicates in a List\n",
    "*Problem Statement*\n",
    "\n",
    "You are given a list of integers, which may contain duplicate numbers. Your task is to find all duplicate numbers and return them in a new list."
   ],
   "id": "5d288bb8368d8610"
  },
  {
   "cell_type": "code",
   "execution_count": null,
   "id": "initial_id",
   "metadata": {
    "collapsed": true
   },
   "outputs": [],
   "source": [
    "def find_duplicates(nums):\n",
    "    seen = set()\n",
    "    duplicates = set()\n",
    "    \n",
    "    for num in nums:\n",
    "        if num in seen:\n",
    "            duplicates.add(num)\n",
    "        else:\n",
    "            seen.add(num)\n",
    "    \n",
    "    return list(duplicates)\n",
    "\n",
    "# Test case\n",
    "nums = [1, 2, 3, 4, 2, 5, 6, 3, 7, 8, 1, 9]\n",
    "print(find_duplicates(nums))  # Output: [1, 2, 3]"
   ]
  },
  {
   "metadata": {},
   "cell_type": "markdown",
   "source": "*List of strings* ",
   "id": "6b4832caa076f565"
  },
  {
   "metadata": {},
   "cell_type": "code",
   "outputs": [],
   "execution_count": null,
   "source": [
    "strings = [\"apple\", \"banana\", \"apple\", \"grape\"]\n",
    "\n",
    "def find_duplicates_strings(strings):\n",
    "    \n",
    "    seen = set()\n",
    "    duplicates = set()\n",
    "    \n",
    "    for string in strings:\n",
    "        if string in seen:\n",
    "            duplicates.add(string)\n",
    "        else:\n",
    "            seen.add(string)\n",
    "            \n",
    "    return list(duplicates)\n",
    "            \n",
    "find_duplicates_strings(strings)"
   ],
   "id": "e4c9381d56ab2e79"
  },
  {
   "metadata": {},
   "cell_type": "markdown",
   "source": [
    "## Find the Intersection of Two Lists\n",
    "*Problem Statement*\n",
    "\n",
    "You are given two lists of numbers. Your task is to find the common elements (intersection) between them"
   ],
   "id": "2ce38961720fda92"
  },
  {
   "metadata": {},
   "cell_type": "code",
   "outputs": [],
   "execution_count": null,
   "source": [
    "list1 = [1, 2, 3, 4, 5, 6, 7]\n",
    "list2 = [5, 6, 7, 8, 9, 10]\n",
    "\n",
    "\n",
    "def find_duplicates_list(list1, list2):\n",
    "        \n",
    "    duplicates = []\n",
    "        \n",
    "    longer_list, short_list = (list1, list2) if len(list1) > len(list2) else (list2, list1)\n",
    "\n",
    "    for num in longer_list:\n",
    "        if num in short_list:\n",
    "            duplicates.append(num)\n",
    "            \n",
    "    return duplicates\n",
    "        \n",
    "find_duplicates_list(list1, list2)"
   ],
   "id": "d890b41ae821be11"
  },
  {
   "metadata": {},
   "cell_type": "markdown",
   "source": "*Solution Using set.intersection()*",
   "id": "8ee41e2fc6b88109"
  },
  {
   "metadata": {
    "ExecuteTime": {
     "end_time": "2025-02-26T23:59:55.338018Z",
     "start_time": "2025-02-26T23:59:55.334069Z"
    }
   },
   "cell_type": "code",
   "source": [
    "def find_intersection(list1, list2):\n",
    "    set1 = set(list1)  # Convert list1 to a set\n",
    "    set2 = set(list2)  # Convert list2 to a set\n",
    "    intersection = set1.intersection(set2)  # Find common elements\n",
    "    return list(intersection)  # Convert set back to list\n",
    "\n",
    "# Test case\n",
    "list1 = [1, 2, 3, 4, 5, 6, 7]\n",
    "list2 = [5, 6, 7, 8, 9, 10]\n",
    "print(find_intersection(list1, list2))  \n",
    "# Output: [5, 6, 7]"
   ],
   "id": "2548494b24885969",
   "outputs": [
    {
     "name": "stdout",
     "output_type": "stream",
     "text": [
      "[5, 6, 7]\n"
     ]
    }
   ],
   "execution_count": 1
  },
  {
   "metadata": {},
   "cell_type": "markdown",
   "source": "Alternative Approach using *&* Operator",
   "id": "6b5bbd5408425d1e"
  },
  {
   "metadata": {
    "ExecuteTime": {
     "end_time": "2025-02-27T00:01:52.791827Z",
     "start_time": "2025-02-27T00:01:52.785699Z"
    }
   },
   "cell_type": "code",
   "source": [
    "def find_intersection_alt(list1, list2):\n",
    "    return list(set(list1) & set(list2))# Using '&' for set intersection\n",
    "\n",
    "print(find_intersection_alt(list1, list2))"
   ],
   "id": "4344ed394f409e14",
   "outputs": [
    {
     "name": "stdout",
     "output_type": "stream",
     "text": [
      "[5, 6, 7]\n"
     ]
    }
   ],
   "execution_count": 3
  },
  {
   "metadata": {
    "ExecuteTime": {
     "end_time": "2025-02-27T16:51:09.471694Z",
     "start_time": "2025-02-27T16:51:09.465211Z"
    }
   },
   "cell_type": "code",
   "source": "",
   "id": "4b3632666a1ac254",
   "outputs": [
    {
     "name": "stdout",
     "output_type": "stream",
     "text": [
      "1\n",
      "2\n",
      "Fizz\n",
      "4\n",
      "Buzz\n",
      "Fizz\n",
      "7\n",
      "8\n",
      "Fizz\n",
      "Buzz\n",
      "11\n",
      "Fizz\n",
      "13\n",
      "14\n",
      "FizzBuzz\n",
      "16\n",
      "17\n",
      "Fizz\n",
      "19\n",
      "Buzz\n",
      "Fizz\n",
      "22\n",
      "23\n",
      "Fizz\n",
      "Buzz\n",
      "26\n",
      "Fizz\n",
      "28\n",
      "29\n",
      "FizzBuzz\n",
      "31\n",
      "32\n",
      "Fizz\n",
      "34\n",
      "Buzz\n",
      "Fizz\n",
      "37\n",
      "38\n",
      "Fizz\n",
      "Buzz\n",
      "41\n",
      "Fizz\n",
      "43\n",
      "44\n",
      "FizzBuzz\n",
      "46\n",
      "47\n",
      "Fizz\n",
      "49\n",
      "Buzz\n"
     ]
    }
   ],
   "execution_count": 2
  }
 ],
 "metadata": {
  "kernelspec": {
   "display_name": "Python 3",
   "language": "python",
   "name": "python3"
  },
  "language_info": {
   "codemirror_mode": {
    "name": "ipython",
    "version": 2
   },
   "file_extension": ".py",
   "mimetype": "text/x-python",
   "name": "python",
   "nbconvert_exporter": "python",
   "pygments_lexer": "ipython2",
   "version": "2.7.6"
  }
 },
 "nbformat": 4,
 "nbformat_minor": 5
}
