{
 "cells": [
  {
   "metadata": {},
   "cell_type": "markdown",
   "source": [
    "## Exercise: Find the Missing Number\n",
    "Problem Statement\n",
    "You are given an array containing n-1 unique numbers from a range of 1 to n. One number is missing from the sequence. Your task is to write a function that finds and returns the missing number."
   ],
   "id": "2eeec050e7eedf5e"
  },
  {
   "metadata": {
    "ExecuteTime": {
     "end_time": "2025-02-25T23:55:27.419641Z",
     "start_time": "2025-02-25T23:55:27.412794Z"
    }
   },
   "cell_type": "code",
   "source": [
    "nums1 = [1, 2, 4, 5]  # The missing number is 3\n",
    " # Output: 3\n",
    "\n",
    "nums2 = [3, 7, 1, 2, 8, 4, 5]  # The missing number is 6\n",
    "  # Output: 6"
   ],
   "id": "e1f18ac22b665271",
   "outputs": [],
   "execution_count": 1
  },
  {
   "metadata": {},
   "cell_type": "markdown",
   "source": [
    "Solution Approaches \n",
    "Using the Sum Formula (Efficient - O(n))\n",
    "\n",
    "We can compute the expected sum of numbers from 1 to n, subtract the sum of the given numbers, and find the missing value."
   ],
   "id": "ccd7402a166842d5"
  },
  {
   "cell_type": "code",
   "id": "initial_id",
   "metadata": {
    "collapsed": true,
    "ExecuteTime": {
     "end_time": "2025-02-25T23:58:17.684412Z",
     "start_time": "2025-02-25T23:58:17.674949Z"
    }
   },
   "source": [
    "def find_missing_number(nums):\n",
    "    n = len(nums) + 1 # The actual range should have n numbers\n",
    "    expected_sum = n * (n + 1) // 2\n",
    "    actual_sum = sum(nums)\n",
    "    return expected_sum - actual_sum\n",
    "\n",
    "print(find_missing_number(nums1))\n",
    "print(find_missing_number(nums2))\n",
    "\n"
   ],
   "outputs": [
    {
     "name": "stdout",
     "output_type": "stream",
     "text": [
      "3\n",
      "6\n"
     ]
    }
   ],
   "execution_count": 2
  },
  {
   "metadata": {},
   "cell_type": "markdown",
   "source": "",
   "id": "b804aca94fc3e37b"
  }
 ],
 "metadata": {
  "kernelspec": {
   "display_name": "Python 3",
   "language": "python",
   "name": "python3"
  },
  "language_info": {
   "codemirror_mode": {
    "name": "ipython",
    "version": 2
   },
   "file_extension": ".py",
   "mimetype": "text/x-python",
   "name": "python",
   "nbconvert_exporter": "python",
   "pygments_lexer": "ipython2",
   "version": "2.7.6"
  }
 },
 "nbformat": 4,
 "nbformat_minor": 5
}
