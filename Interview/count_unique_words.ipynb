{
 "cells": [
  {
   "metadata": {},
   "cell_type": "code",
   "outputs": [],
   "execution_count": null,
   "source": "",
   "id": "1d200c43fcb293c"
  },
  {
   "cell_type": "code",
   "id": "initial_id",
   "metadata": {
    "collapsed": true,
    "ExecuteTime": {
     "end_time": "2025-03-05T04:30:15.420593Z",
     "start_time": "2025-03-05T04:30:15.415667Z"
    }
   },
   "source": [
    "\"Write a Python program that takes a text string and counts how many unique words are in it, ignoring capitalization and punctuation.\"\n",
    "import string\n",
    "\n",
    "\n",
    "def count_unic_words(words):\n",
    "    # clean text \n",
    "    translator = str.maketrans('', '', string.punctuation)\n",
    "    clean_text = words.translate(translator).lower()\n",
    "\n",
    "    words = clean_text.split()\n",
    "    dic_words = {}\n",
    "\n",
    "    for word in words:\n",
    "        dic_words[word] = dic_words.get(word, 0) + 1\n",
    "\n",
    "    return dic_words\n",
    "\n",
    "\n",
    "text = \"Hello, world! Hello everyone. This is a test, a simple test.\"\n",
    "word_count = count_unic_words(text)\n",
    "print(\"Unique words count:\", len([word for word in word_count if word_count[word] == 1]))\n",
    "print(\"Word frequencies:\", word_count)\n",
    "\n",
    "\n"
   ],
   "outputs": [
    {
     "name": "stdout",
     "output_type": "stream",
     "text": [
      "Unique words count: 5\n",
      "Word frequencies: {'hello': 2, 'world': 1, 'everyone': 1, 'this': 1, 'is': 1, 'a': 2, 'test': 2, 'simple': 1}\n"
     ]
    }
   ],
   "execution_count": 8
  },
  {
   "metadata": {},
   "cell_type": "markdown",
   "source": [
    "*Exercise: Count Word Length Frequencies*\n",
    "\n",
    "Write a Python program that takes a text string, splits it into words, and creates a dictionary where:\n",
    "\n",
    "The keys are word lengths (e.g., 4 for \"word\").\n",
    "The values are how many words have that length.\n",
    "Use list comprehension, a dictionary, and .get() to update counts."
   ],
   "id": "57796449e8df3d6b"
  },
  {
   "metadata": {
    "ExecuteTime": {
     "end_time": "2025-03-05T04:40:04.081883Z",
     "start_time": "2025-03-05T04:40:04.074342Z"
    }
   },
   "cell_type": "code",
   "source": [
    "def count_words(text):\n",
    "    translator = str.maketrans('', '', string.punctuation)\n",
    "    clean_text = text.translate(translator)\n",
    "    clean_text = clean_text.split()\n",
    "    word_count = {}\n",
    "\n",
    "    for word in clean_text:\n",
    "        word_count[len(word)] = word_count.get(len(word), 0) + 1\n",
    "\n",
    "    return word_count\n",
    "\n",
    "\n",
    "text = \"This is an example sentence with some repeated words, words that appear again.\"\n",
    "\n",
    "count_words(text)\n",
    "\n"
   ],
   "id": "d001b9b5695f67d9",
   "outputs": [
    {
     "data": {
      "text/plain": [
       "{4: 4, 2: 2, 7: 1, 8: 2, 5: 3, 6: 1}"
      ]
     },
     "execution_count": 10,
     "metadata": {},
     "output_type": "execute_result"
    }
   ],
   "execution_count": 10
  }
 ],
 "metadata": {
  "kernelspec": {
   "display_name": "Python 3",
   "language": "python",
   "name": "python3"
  },
  "language_info": {
   "codemirror_mode": {
    "name": "ipython",
    "version": 2
   },
   "file_extension": ".py",
   "mimetype": "text/x-python",
   "name": "python",
   "nbconvert_exporter": "python",
   "pygments_lexer": "ipython2",
   "version": "2.7.6"
  }
 },
 "nbformat": 4,
 "nbformat_minor": 5
}
