{
 "cells": [
  {
   "metadata": {},
   "cell_type": "markdown",
   "source": [
    "## Exercise: Find Pairs That Sum to a Target\n",
    "*Problem Statement*\n",
    "\n",
    "Given a list of integers and a target sum, find all pairs of numbers that add up to the target sum. Return the pairs as a list of tuples.\n",
    "\n"
   ],
   "id": "3e168bb5660832a1"
  },
  {
   "cell_type": "code",
   "id": "initial_id",
   "metadata": {
    "collapsed": true,
    "ExecuteTime": {
     "end_time": "2025-02-26T22:46:25.554747Z",
     "start_time": "2025-02-26T22:46:25.552237Z"
    }
   },
   "source": [
    "nums = [2, 7, 4, 5, 1, 3, 6, 8]\n",
    "target = 9"
   ],
   "outputs": [],
   "execution_count": 2
  },
  {
   "metadata": {
    "ExecuteTime": {
     "end_time": "2025-02-26T23:54:50.052495Z",
     "start_time": "2025-02-26T23:54:50.048541Z"
    }
   },
   "cell_type": "code",
   "source": [
    "def find_pairs(nums, target):\n",
    "    pairs = []\n",
    "    for i in range(len(nums)):\n",
    "        for j in range(i + 1, len(nums)):\n",
    "            if nums[i] + nums[j] == target:\n",
    "                pairs.append((nums[i], nums[j]))\n",
    "    return pairs\n",
    "\n",
    "print(find_pairs(nums, target))"
   ],
   "id": "e8ce32778786dde9",
   "outputs": [
    {
     "name": "stdout",
     "output_type": "stream",
     "text": [
      "[(1, 8), (2, 7), (3, 6), (4, 5), (2, 7), (6, 3), (8, 1)]\n"
     ]
    }
   ],
   "execution_count": 12
  },
  {
   "metadata": {
    "ExecuteTime": {
     "end_time": "2025-02-26T23:54:57.881195Z",
     "start_time": "2025-02-26T23:54:57.875753Z"
    }
   },
   "cell_type": "code",
   "source": [
    "def find_paris_optimized(nums, target):\n",
    "    pairs = []\n",
    "    seen = set()\n",
    "    \n",
    "    for num in nums:\n",
    "        complement = target - num \n",
    "        if complement in seen:\n",
    "            pairs.append((complement, num))\n",
    "        seen.add(num)\n",
    "    \n",
    "    return pairs\n",
    "\n",
    "print(find_paris_optimized(nums, target))"
   ],
   "id": "ca195ebee30f142d",
   "outputs": [
    {
     "name": "stdout",
     "output_type": "stream",
     "text": [
      "[(4, 5), (3, 6), (6, 3), (2, 7), (1, 8), (8, 1)]\n"
     ]
    }
   ],
   "execution_count": 13
  }
 ],
 "metadata": {
  "kernelspec": {
   "display_name": "Python 3",
   "language": "python",
   "name": "python3"
  },
  "language_info": {
   "codemirror_mode": {
    "name": "ipython",
    "version": 2
   },
   "file_extension": ".py",
   "mimetype": "text/x-python",
   "name": "python",
   "nbconvert_exporter": "python",
   "pygments_lexer": "ipython2",
   "version": "2.7.6"
  }
 },
 "nbformat": 4,
 "nbformat_minor": 5
}
