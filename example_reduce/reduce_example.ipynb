{
 "cells": [
  {
   "metadata": {},
   "cell_type": "markdown",
   "source": "Reduce",
   "id": "93741bd44248eaf5"
  },
  {
   "cell_type": "code",
   "id": "initial_id",
   "metadata": {
    "collapsed": true,
    "ExecuteTime": {
     "end_time": "2025-02-25T23:25:00.197719Z",
     "start_time": "2025-02-25T23:25:00.192763Z"
    }
   },
   "source": [
    "from functools import reduce\n",
    "\n",
    "numbers = [1, 2, 3, 4, 5]\n",
    "\n",
    "product = reduce(lambda x, y: x + y, numbers)\n",
    "print(product)\n",
    "sum([num for num in numbers])\n"
   ],
   "outputs": [
    {
     "name": "stdout",
     "output_type": "stream",
     "text": [
      "15\n"
     ]
    },
    {
     "data": {
      "text/plain": [
       "15"
      ]
     },
     "execution_count": 6,
     "metadata": {},
     "output_type": "execute_result"
    }
   ],
   "execution_count": 6
  },
  {
   "metadata": {
    "ExecuteTime": {
     "end_time": "2025-02-25T23:27:17.209054Z",
     "start_time": "2025-02-25T23:27:17.200637Z"
    }
   },
   "cell_type": "code",
   "source": [
    "# find the Maximum Number \n",
    "max([num for num in numbers])"
   ],
   "id": "11806c2c6fc7aab2",
   "outputs": [
    {
     "data": {
      "text/plain": [
       "5"
      ]
     },
     "execution_count": 7,
     "metadata": {},
     "output_type": "execute_result"
    }
   ],
   "execution_count": 7
  },
  {
   "metadata": {
    "ExecuteTime": {
     "end_time": "2025-02-25T23:29:55.786699Z",
     "start_time": "2025-02-25T23:29:55.778745Z"
    }
   },
   "cell_type": "code",
   "source": [
    "# Concatenate a List of Strings \n",
    "\n",
    "words = [\"Hello\", \"world\", \"this\", \"is\", \"Python\"]\n",
    "\n",
    "print(\" \".join([word for word in words]))\n",
    "print(\" \".join(words))\n"
   ],
   "id": "62d1ac24166eaf7",
   "outputs": [
    {
     "name": "stdout",
     "output_type": "stream",
     "text": [
      "Hello world this is Python\n",
      "Hello world this is Python\n"
     ]
    }
   ],
   "execution_count": 12
  },
  {
   "metadata": {
    "ExecuteTime": {
     "end_time": "2025-02-25T23:37:20.579609Z",
     "start_time": "2025-02-25T23:37:20.571543Z"
    }
   },
   "cell_type": "code",
   "source": [
    "# Find the Longest Word\n",
    "max([word for word in words], key=len)\n",
    "\n",
    "word_lengths = {}\n",
    "for word in words:\n",
    "    word_lengths[word] = len(word)\n",
    "\n",
    "max(word_lengths, key=word_lengths.get)\n",
    "\n"
   ],
   "id": "2b229c6aaf7cb0b7",
   "outputs": [
    {
     "data": {
      "text/plain": [
       "'Python'"
      ]
     },
     "execution_count": 18,
     "metadata": {},
     "output_type": "execute_result"
    }
   ],
   "execution_count": 18
  }
 ],
 "metadata": {
  "kernelspec": {
   "display_name": "Python 3",
   "language": "python",
   "name": "python3"
  },
  "language_info": {
   "codemirror_mode": {
    "name": "ipython",
    "version": 2
   },
   "file_extension": ".py",
   "mimetype": "text/x-python",
   "name": "python",
   "nbconvert_exporter": "python",
   "pygments_lexer": "ipython2",
   "version": "2.7.6"
  }
 },
 "nbformat": 4,
 "nbformat_minor": 5
}
