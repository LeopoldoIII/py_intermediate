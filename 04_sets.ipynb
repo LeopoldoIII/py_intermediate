{
 "cells": [
  {
   "cell_type": "code",
   "execution_count": 1,
   "metadata": {},
   "outputs": [
    {
     "name": "stderr",
     "output_type": "stream",
     "text": [
      "2022-11-29 20:29:12,489 is when this event was logged.\n"
     ]
    }
   ],
   "source": [
    "import logging\n",
    "logging.basicConfig(format='%(asctime)s %(message)s')\n",
    "logging.warning('is when this event was logged.')\n",
    "\n"
   ]
  },
  {
   "cell_type": "code",
   "execution_count": 1,
   "metadata": {},
   "outputs": [
    {
     "name": "stdout",
     "output_type": "stream",
     "text": [
      "{1, 2, 3, 4, 5, 6}\n",
      "<class 'set'>\n",
      "{1, 2, 3}\n",
      "{'l', 'o', 'h', 'a'}\n"
     ]
    }
   ],
   "source": [
    "# Differents way to define a set \n",
    "my_set = {1,2,3,4,5,3,6}\n",
    "print(my_set)\n",
    "print(type(my_set))\n",
    "\n",
    "my_set_01 = set([1,2,3])\n",
    "my_set_02 = set(\"hola\")\n",
    "\n",
    "print(my_set_01)\n",
    "print(my_set_02)\n",
    "\n"
   ]
  },
  {
   "cell_type": "code",
   "execution_count": 7,
   "metadata": {},
   "outputs": [
    {
     "name": "stdout",
     "output_type": "stream",
     "text": [
      "My set {1, 2, 3, 4, 5, 6}\n",
      "New set {6, 7, 8, 9, 10}\n",
      "Union {1, 2, 3, 4, 5, 6, 7, 8, 9, 10}\n",
      "Intersection {6}\n"
     ]
    }
   ],
   "source": [
    "# add / discard \n",
    "\n",
    "my_set.add(1)\n",
    "last_element = list(my_set)[-1]\n",
    "new_set = set()\n",
    "\n",
    "for i in range(last_element, last_element + 5):\n",
    "    new_set.add(i)\n",
    "\n",
    "print(f\"My set {my_set}\")\n",
    "print(f\"New set {new_set}\")\n",
    "\n",
    "union = my_set.union(new_set)\n",
    "intersection = my_set.intersection(new_set)\n",
    "\n",
    "print(f\"Union {union}\")\n",
    "print(f\"Intersection {intersection}\")\n",
    "\n"
   ]
  },
  {
   "cell_type": "code",
   "execution_count": 23,
   "metadata": {},
   "outputs": [
    {
     "name": "stdout",
     "output_type": "stream",
     "text": [
      "Elements not in B {4, 5, 6, 7, 8, 9}\n",
      "Elements not in A {10, 11, 12}\n",
      " {4, 5, 6, 7, 8, 9, 10, 11, 12}\n",
      "diff {1, 2, 3}\n",
      "Subset False\n",
      "Superset True\n",
      "disnoint False\n"
     ]
    }
   ],
   "source": [
    "# Unordered, mutable, no duplicates\n",
    "\n",
    "set_a = {1,2,3,4,5,6,7,8,9}\n",
    "set_b = {1,2,3,10,11,12}\n",
    "\n",
    "# copy \n",
    "# new_set_a = set_a.copy()\n",
    "# new_set_a = set(set_a)\n",
    "\n",
    "# inmutable set\n",
    "new_set_a = frozenset(set(set_a))\n",
    "\n",
    "\n",
    "\n",
    "\n",
    "# difference\n",
    "\n",
    "diff_ab = set_a.difference(set_b)\n",
    "diff_ba = set_b.difference(set_a)\n",
    "\n",
    "\n",
    "print(f\"Elements not in B {diff_ab}\")\n",
    "print(f\"Elements not in A {diff_ba}\")\n",
    "\n",
    "\n",
    "diff_sysmetric = set_a.symmetric_difference(set_b)\n",
    "print(f\" {diff_sysmetric}\")\n",
    "diff = set_a.intersection(set_b)\n",
    "print(f\"diff {diff}\" )\n",
    "\n",
    "set_a = {1,2,3,4,5,6}\n",
    "set_b = {1,2,3}\n",
    "\n",
    "subset = set_a.issubset(set_b)\n",
    "superset = set_a.issuperset(set_b)\n",
    "disjoint = set_a.isdisjoint(set_b)\n",
    "\n",
    "print(f\"Subset {subset}\")\n",
    "print(f\"Superset {superset}\")\n",
    "print(f\"disnoint {disjoint}\")\n",
    "\n"
   ]
  }
 ],
 "metadata": {
  "kernelspec": {
   "display_name": "Python 3",
   "language": "python",
   "name": "python3"
  },
  "language_info": {
   "codemirror_mode": {
    "name": "ipython",
    "version": 3
   },
   "file_extension": ".py",
   "mimetype": "text/x-python",
   "name": "python",
   "nbconvert_exporter": "python",
   "pygments_lexer": "ipython3",
   "version": "3.9.0"
  },
  "orig_nbformat": 4,
  "vscode": {
   "interpreter": {
    "hash": "38bb126f593704e3f6085f7991d7fe77f3c15913336186335ed83e1d798c25b7"
   }
  }
 },
 "nbformat": 4,
 "nbformat_minor": 2
}
