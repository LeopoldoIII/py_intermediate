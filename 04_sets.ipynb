{
 "cells": [
  {
   "cell_type": "code",
   "execution_count": 1,
   "metadata": {},
   "outputs": [
    {
     "name": "stderr",
     "output_type": "stream",
     "text": [
      "2022-11-29 20:29:12,489 is when this event was logged.\n"
     ]
    }
   ],
   "source": [
    "import logging\n",
    "logging.basicConfig(format='%(asctime)s %(message)s')\n",
    "logging.warning('is when this event was logged.')\n",
    "\n"
   ]
  },
  {
   "cell_type": "code",
   "execution_count": 6,
   "metadata": {},
   "outputs": [
    {
     "name": "stdout",
     "output_type": "stream",
     "text": [
      "{1, 2, 3, 4, 5, 6}\n",
      "<class 'set'>\n",
      "{1, 2, 3}\n",
      "{'l', 'o', 'h', 'a'}\n"
     ]
    }
   ],
   "source": [
    "# Differents way to define a set \n",
    "my_set = {1,2,3,4,5,3,6}\n",
    "print(my_set)\n",
    "print(type(my_set))\n",
    "\n",
    "my_set_01 = set([1,2,3])\n",
    "my_set_02 = set(\"hola\")\n",
    "\n",
    "print(my_set_01)\n",
    "print(my_set_02)\n",
    "\n"
   ]
  },
  {
   "cell_type": "code",
   "execution_count": 9,
   "metadata": {},
   "outputs": [
    {
     "name": "stdout",
     "output_type": "stream",
     "text": [
      "{0, 1, 2, 3, 4, 5, 6, 7, 8, 9}\n"
     ]
    },
    {
     "ename": "TypeError",
     "evalue": "'set' object is not subscriptable",
     "output_type": "error",
     "traceback": [
      "\u001b[0;31m---------------------------------------------------------------------------\u001b[0m",
      "\u001b[0;31mTypeError\u001b[0m                                 Traceback (most recent call last)",
      "Cell \u001b[0;32mIn [9], line 10\u001b[0m\n\u001b[1;32m      7\u001b[0m     my_set\u001b[39m.\u001b[39madd(i)\n\u001b[1;32m      9\u001b[0m \u001b[39mprint\u001b[39m(my_set)\n\u001b[0;32m---> 10\u001b[0m \u001b[39mprint\u001b[39m(my_set[\u001b[39m0\u001b[39;49m])\n",
      "\u001b[0;31mTypeError\u001b[0m: 'set' object is not subscriptable"
     ]
    }
   ],
   "source": [
    "# add / discard \n",
    "\n",
    "my_set.add(1)\n",
    "\n",
    "\n",
    "for i in range(6,10):\n",
    "    my_set.add(i)\n",
    "\n",
    "print(my_set)\n",
    "\n"
   ]
  },
  {
   "cell_type": "code",
   "execution_count": 28,
   "metadata": {},
   "outputs": [
    {
     "name": "stdout",
     "output_type": "stream",
     "text": [
      "sudo zfs snapshot szs-ss.b.1/SZS/4efe02f3-eb06-49fa-8a9a-ea25708e3f45_2022_10_19_11_49_00_clone_persistent@1668146760\n",
      "sudo zfs snapshot szs-ss.b.1/SZS/4efe02f3-eb06-49fa-8a9a-ea25708e3f45_2022_10_19_11_49_00_clone_persistent@1668146761\n",
      "sudo zfs snapshot szs-ss.b.1/SZS/4efe02f3-eb06-49fa-8a9a-ea25708e3f45_2022_10_19_11_49_00_clone_persistent@1668146762\n",
      "sudo zfs snapshot szs-ss.b.1/SZS/4efe02f3-eb06-49fa-8a9a-ea25708e3f45_2022_10_19_11_49_00_clone_persistent@1668146763\n",
      "sudo zfs snapshot szs-ss.b.1/SZS/4efe02f3-eb06-49fa-8a9a-ea25708e3f45_2022_10_19_11_49_00_clone_persistent@1668146764\n",
      "sudo zfs snapshot szs-ss.b.1/SZS/4efe02f3-eb06-49fa-8a9a-ea25708e3f45_2022_10_19_11_49_00_clone_persistent@1668146765\n",
      "sudo zfs snapshot szs-ss.b.1/SZS/4efe02f3-eb06-49fa-8a9a-ea25708e3f45_2022_10_19_11_49_00_clone_persistent@1668146766\n",
      "sudo zfs snapshot szs-ss.b.1/SZS/4efe02f3-eb06-49fa-8a9a-ea25708e3f45_2022_10_19_11_49_00_clone_persistent@1668146767\n",
      "sudo zfs snapshot szs-ss.b.1/SZS/4efe02f3-eb06-49fa-8a9a-ea25708e3f45_2022_10_19_11_49_00_clone_persistent@1668146768\n",
      "sudo zfs snapshot szs-ss.b.1/SZS/4efe02f3-eb06-49fa-8a9a-ea25708e3f45_2022_10_19_11_49_00_clone_persistent@1668146769\n",
      "sudo zfs snapshot szs-ss.b.1/SZS/4efe02f3-eb06-49fa-8a9a-ea25708e3f45_2022_10_19_11_49_00_clone_persistent@1668146770\n",
      "sudo zfs snapshot szs-ss.b.1/SZS/4efe02f3-eb06-49fa-8a9a-ea25708e3f45_2022_10_19_11_49_00_clone_persistent@1668146771\n",
      "sudo zfs snapshot szs-ss.b.1/SZS/4efe02f3-eb06-49fa-8a9a-ea25708e3f45_2022_10_19_11_49_00_clone_persistent@1668146772\n",
      "sudo zfs snapshot szs-ss.b.1/SZS/4efe02f3-eb06-49fa-8a9a-ea25708e3f45_2022_10_19_11_49_00_clone_persistent@1668146773\n",
      "sudo zfs snapshot szs-ss.b.1/SZS/4efe02f3-eb06-49fa-8a9a-ea25708e3f45_2022_10_19_11_49_00_clone_persistent@1668146774\n",
      "sudo zfs snapshot szs-ss.b.1/SZS/4efe02f3-eb06-49fa-8a9a-ea25708e3f45_2022_10_19_11_49_00_clone_persistent@1668146775\n",
      "sudo zfs snapshot szs-ss.b.1/SZS/4efe02f3-eb06-49fa-8a9a-ea25708e3f45_2022_10_19_11_49_00_clone_persistent@1668146776\n",
      "sudo zfs snapshot szs-ss.b.1/SZS/4efe02f3-eb06-49fa-8a9a-ea25708e3f45_2022_10_19_11_49_00_clone_persistent@1668146777\n",
      "sudo zfs snapshot szs-ss.b.1/SZS/4efe02f3-eb06-49fa-8a9a-ea25708e3f45_2022_10_19_11_49_00_clone_persistent@1668146778\n",
      "sudo zfs snapshot szs-ss.b.1/SZS/4efe02f3-eb06-49fa-8a9a-ea25708e3f45_2022_10_19_11_49_00_clone_persistent@1668146779\n",
      "sudo zfs snapshot szs-ss.b.1/SZS/4efe02f3-eb06-49fa-8a9a-ea25708e3f45_2022_10_19_11_49_00_clone_persistent@1668146780\n",
      "sudo zfs snapshot szs-ss.b.1/SZS/4efe02f3-eb06-49fa-8a9a-ea25708e3f45_2022_10_19_11_49_00_clone_persistent@1668146781\n",
      "sudo zfs snapshot szs-ss.b.1/SZS/4efe02f3-eb06-49fa-8a9a-ea25708e3f45_2022_10_19_11_49_00_clone_persistent@1668146782\n",
      "sudo zfs snapshot szs-ss.b.1/SZS/4efe02f3-eb06-49fa-8a9a-ea25708e3f45_2022_10_19_11_49_00_clone_persistent@1668146783\n",
      "sudo zfs snapshot szs-ss.b.1/SZS/4efe02f3-eb06-49fa-8a9a-ea25708e3f45_2022_10_19_11_49_00_clone_persistent@1668146784\n",
      "sudo zfs snapshot szs-ss.b.1/SZS/4efe02f3-eb06-49fa-8a9a-ea25708e3f45_2022_10_19_11_49_00_clone_persistent@1668146785\n",
      "sudo zfs snapshot szs-ss.b.1/SZS/4efe02f3-eb06-49fa-8a9a-ea25708e3f45_2022_10_19_11_49_00_clone_persistent@1668146786\n",
      "sudo zfs snapshot szs-ss.b.1/SZS/4efe02f3-eb06-49fa-8a9a-ea25708e3f45_2022_10_19_11_49_00_clone_persistent@1668146787\n",
      "sudo zfs snapshot szs-ss.b.1/SZS/4efe02f3-eb06-49fa-8a9a-ea25708e3f45_2022_10_19_11_49_00_clone_persistent@1668146788\n",
      "sudo zfs snapshot szs-ss.b.1/SZS/4efe02f3-eb06-49fa-8a9a-ea25708e3f45_2022_10_19_11_49_00_clone_persistent@1668146789\n",
      "sudo zfs snapshot szs-ss.b.1/SZS/4efe02f3-eb06-49fa-8a9a-ea25708e3f45_2022_10_19_11_49_00_clone_persistent@1668146790\n",
      "sudo zfs snapshot szs-ss.b.1/SZS/4efe02f3-eb06-49fa-8a9a-ea25708e3f45_2022_10_19_11_49_00_clone_persistent@1668146791\n",
      "sudo zfs snapshot szs-ss.b.1/SZS/4efe02f3-eb06-49fa-8a9a-ea25708e3f45_2022_10_19_11_49_00_clone_persistent@1668146792\n",
      "sudo zfs snapshot szs-ss.b.1/SZS/4efe02f3-eb06-49fa-8a9a-ea25708e3f45_2022_10_19_11_49_00_clone_persistent@1668146793\n",
      "sudo zfs snapshot szs-ss.b.1/SZS/4efe02f3-eb06-49fa-8a9a-ea25708e3f45_2022_10_19_11_49_00_clone_persistent@1668146794\n",
      "sudo zfs snapshot szs-ss.b.1/SZS/4efe02f3-eb06-49fa-8a9a-ea25708e3f45_2022_10_19_11_49_00_clone_persistent@1668146795\n",
      "sudo zfs snapshot szs-ss.b.1/SZS/4efe02f3-eb06-49fa-8a9a-ea25708e3f45_2022_10_19_11_49_00_clone_persistent@1668146796\n",
      "sudo zfs snapshot szs-ss.b.1/SZS/4efe02f3-eb06-49fa-8a9a-ea25708e3f45_2022_10_19_11_49_00_clone_persistent@1668146797\n",
      "sudo zfs snapshot szs-ss.b.1/SZS/4efe02f3-eb06-49fa-8a9a-ea25708e3f45_2022_10_19_11_49_00_clone_persistent@1668146798\n",
      "sudo zfs snapshot szs-ss.b.1/SZS/4efe02f3-eb06-49fa-8a9a-ea25708e3f45_2022_10_19_11_49_00_clone_persistent@1668146799\n",
      "sudo zfs snapshot szs-ss.b.1/SZS/4efe02f3-eb06-49fa-8a9a-ea25708e3f45_2022_10_19_11_49_00_clone_persistent@1668146800\n",
      "sudo zfs snapshot szs-ss.b.1/SZS/4efe02f3-eb06-49fa-8a9a-ea25708e3f45_2022_10_19_11_49_00_clone_persistent@1668146801\n",
      "sudo zfs snapshot szs-ss.b.1/SZS/4efe02f3-eb06-49fa-8a9a-ea25708e3f45_2022_10_19_11_49_00_clone_persistent@1668146802\n",
      "sudo zfs snapshot szs-ss.b.1/SZS/4efe02f3-eb06-49fa-8a9a-ea25708e3f45_2022_10_19_11_49_00_clone_persistent@1668146803\n",
      "sudo zfs snapshot szs-ss.b.1/SZS/4efe02f3-eb06-49fa-8a9a-ea25708e3f45_2022_10_19_11_49_00_clone_persistent@1668146804\n",
      "sudo zfs snapshot szs-ss.b.1/SZS/4efe02f3-eb06-49fa-8a9a-ea25708e3f45_2022_10_19_11_49_00_clone_persistent@1668146805\n",
      "sudo zfs snapshot szs-ss.b.1/SZS/4efe02f3-eb06-49fa-8a9a-ea25708e3f45_2022_10_19_11_49_00_clone_persistent@1668146806\n",
      "sudo zfs snapshot szs-ss.b.1/SZS/4efe02f3-eb06-49fa-8a9a-ea25708e3f45_2022_10_19_11_49_00_clone_persistent@1668146807\n",
      "sudo zfs snapshot szs-ss.b.1/SZS/4efe02f3-eb06-49fa-8a9a-ea25708e3f45_2022_10_19_11_49_00_clone_persistent@1668146808\n",
      "sudo zfs snapshot szs-ss.b.1/SZS/4efe02f3-eb06-49fa-8a9a-ea25708e3f45_2022_10_19_11_49_00_clone_persistent@1668146809\n",
      "sudo zfs snapshot szs-ss.b.1/SZS/4efe02f3-eb06-49fa-8a9a-ea25708e3f45_2022_10_19_11_49_00_clone_persistent@1668146810\n",
      "sudo zfs snapshot szs-ss.b.1/SZS/4efe02f3-eb06-49fa-8a9a-ea25708e3f45_2022_10_19_11_49_00_clone_persistent@1668146811\n",
      "sudo zfs snapshot szs-ss.b.1/SZS/4efe02f3-eb06-49fa-8a9a-ea25708e3f45_2022_10_19_11_49_00_clone_persistent@1668146812\n",
      "sudo zfs snapshot szs-ss.b.1/SZS/4efe02f3-eb06-49fa-8a9a-ea25708e3f45_2022_10_19_11_49_00_clone_persistent@1668146813\n",
      "sudo zfs snapshot szs-ss.b.1/SZS/4efe02f3-eb06-49fa-8a9a-ea25708e3f45_2022_10_19_11_49_00_clone_persistent@1668146814\n",
      "sudo zfs snapshot szs-ss.b.1/SZS/4efe02f3-eb06-49fa-8a9a-ea25708e3f45_2022_10_19_11_49_00_clone_persistent@1668146815\n",
      "sudo zfs snapshot szs-ss.b.1/SZS/4efe02f3-eb06-49fa-8a9a-ea25708e3f45_2022_10_19_11_49_00_clone_persistent@1668146816\n",
      "sudo zfs snapshot szs-ss.b.1/SZS/4efe02f3-eb06-49fa-8a9a-ea25708e3f45_2022_10_19_11_49_00_clone_persistent@1668146817\n",
      "sudo zfs snapshot szs-ss.b.1/SZS/4efe02f3-eb06-49fa-8a9a-ea25708e3f45_2022_10_19_11_49_00_clone_persistent@1668146818\n",
      "sudo zfs snapshot szs-ss.b.1/SZS/4efe02f3-eb06-49fa-8a9a-ea25708e3f45_2022_10_19_11_49_00_clone_persistent@1668146819\n"
     ]
    }
   ],
   "source": [
    "# importing datetime module\n",
    "import datetime\n",
    "import time\n",
    "\n",
    "for i in range(60):\n",
    "    # assigned regular string date\n",
    "    date_time = datetime.datetime(2022, 11, 11, 00, 6, i)\n",
    "\n",
    "    # print regular python date&time\n",
    "    # print(\"date_time =>\",date_time)\n",
    "\n",
    "    # displaying unix timestamp after conversion\n",
    "    # print(\"unix_timestamp => \",\n",
    "    #     ((time.mktime(date_time.timetuple()))))\n",
    "    command = 'sudo zfs snapshot szs-ss.b.1/SZS/4efe02f3-eb06-49fa-8a9a-ea25708e3f45_2022_10_19_11_49_00_clone_persistent@'\n",
    "    print(f'{command}{int(time.mktime(date_time.timetuple()))}')\n"
   ]
  }
 ],
 "metadata": {
  "kernelspec": {
   "display_name": "Python 3.9.4 64-bit ('3.9.4')",
   "language": "python",
   "name": "python3"
  },
  "language_info": {
   "codemirror_mode": {
    "name": "ipython",
    "version": 3
   },
   "file_extension": ".py",
   "mimetype": "text/x-python",
   "name": "python",
   "nbconvert_exporter": "python",
   "pygments_lexer": "ipython3",
   "version": "3.9.4"
  },
  "orig_nbformat": 4,
  "vscode": {
   "interpreter": {
    "hash": "3967de046126f7b3a297a807e12c34979c37ca5010c7f67bec59a18dee4d4d56"
   }
  }
 },
 "nbformat": 4,
 "nbformat_minor": 2
}
