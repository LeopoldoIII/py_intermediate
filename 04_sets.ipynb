{
 "cells": [
  {
   "cell_type": "code",
   "execution_count": 5,
   "metadata": {},
   "outputs": [
    {
     "name": "stderr",
     "output_type": "stream",
     "text": [
      "2022-11-22 16:34:08,347 is when this event was logged.\n",
      "2022-11-22 16:34:08,350 info\n"
     ]
    }
   ],
   "source": [
    "import logging\n",
    "logging.basicConfig(format='%(asctime)s %(message)s')\n",
    "logging.warning('is when this event was logged.')\n",
    "\n"
   ]
  },
  {
   "cell_type": "code",
   "execution_count": 6,
   "metadata": {},
   "outputs": [
    {
     "name": "stdout",
     "output_type": "stream",
     "text": [
      "{1, 2, 3, 4, 5, 6}\n",
      "<class 'set'>\n",
      "{1, 2, 3}\n",
      "{'l', 'o', 'h', 'a'}\n"
     ]
    }
   ],
   "source": [
    "# Differents way to define a set \n",
    "my_set = {1,2,3,4,5,3,6}\n",
    "print(my_set)\n",
    "print(type(my_set))\n",
    "\n",
    "my_set_01 = set([1,2,3])\n",
    "my_set_02 = set(\"hola\")\n",
    "\n",
    "print(my_set_01)\n",
    "print(my_set_02)\n",
    "\n"
   ]
  },
  {
   "cell_type": "code",
   "execution_count": 9,
   "metadata": {},
   "outputs": [
    {
     "name": "stdout",
     "output_type": "stream",
     "text": [
      "{0, 1, 2, 3, 4, 5, 6, 7, 8, 9}\n"
     ]
    },
    {
     "ename": "TypeError",
     "evalue": "'set' object is not subscriptable",
     "output_type": "error",
     "traceback": [
      "\u001b[0;31m---------------------------------------------------------------------------\u001b[0m",
      "\u001b[0;31mTypeError\u001b[0m                                 Traceback (most recent call last)",
      "Cell \u001b[0;32mIn [9], line 10\u001b[0m\n\u001b[1;32m      7\u001b[0m     my_set\u001b[39m.\u001b[39madd(i)\n\u001b[1;32m      9\u001b[0m \u001b[39mprint\u001b[39m(my_set)\n\u001b[0;32m---> 10\u001b[0m \u001b[39mprint\u001b[39m(my_set[\u001b[39m0\u001b[39;49m])\n",
      "\u001b[0;31mTypeError\u001b[0m: 'set' object is not subscriptable"
     ]
    }
   ],
   "source": [
    "# add / discard \n",
    "\n",
    "my_set.add(1)\n",
    "\n",
    "\n",
    "for i in range(6,10):\n",
    "    my_set.add(i)\n",
    "\n",
    "print(my_set)\n",
    "\n"
   ]
  }
 ],
 "metadata": {
  "kernelspec": {
   "display_name": "Python 3.9.0 64-bit ('3.9.0')",
   "language": "python",
   "name": "python3"
  },
  "language_info": {
   "codemirror_mode": {
    "name": "ipython",
    "version": 3
   },
   "file_extension": ".py",
   "mimetype": "text/x-python",
   "name": "python",
   "nbconvert_exporter": "python",
   "pygments_lexer": "ipython3",
   "version": "3.9.0"
  },
  "orig_nbformat": 4,
  "vscode": {
   "interpreter": {
    "hash": "38bb126f593704e3f6085f7991d7fe77f3c15913336186335ed83e1d798c25b7"
   }
  }
 },
 "nbformat": 4,
 "nbformat_minor": 2
}
