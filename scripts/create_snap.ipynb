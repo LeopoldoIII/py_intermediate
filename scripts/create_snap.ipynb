{
 "cells": [
  {
   "cell_type": "code",
   "execution_count": 1,
   "metadata": {},
   "outputs": [
    {
     "name": "stdout",
     "output_type": "stream",
     "text": [
      "sudo zfs snapshot szs-ss.b.1/SZS/4efe02f3-eb06-49fa-8a9a-ea25708e3f45_2022_10_19_11_49_00_clone_persistent@1668148200\n",
      "sudo zfs snapshot szs-ss.b.1/SZS/4efe02f3-eb06-49fa-8a9a-ea25708e3f45_2022_10_19_11_49_00_clone_persistent@1668148201\n",
      "sudo zfs snapshot szs-ss.b.1/SZS/4efe02f3-eb06-49fa-8a9a-ea25708e3f45_2022_10_19_11_49_00_clone_persistent@1668148202\n",
      "sudo zfs snapshot szs-ss.b.1/SZS/4efe02f3-eb06-49fa-8a9a-ea25708e3f45_2022_10_19_11_49_00_clone_persistent@1668148203\n",
      "sudo zfs snapshot szs-ss.b.1/SZS/4efe02f3-eb06-49fa-8a9a-ea25708e3f45_2022_10_19_11_49_00_clone_persistent@1668148204\n",
      "sudo zfs snapshot szs-ss.b.1/SZS/4efe02f3-eb06-49fa-8a9a-ea25708e3f45_2022_10_19_11_49_00_clone_persistent@1668148205\n",
      "sudo zfs snapshot szs-ss.b.1/SZS/4efe02f3-eb06-49fa-8a9a-ea25708e3f45_2022_10_19_11_49_00_clone_persistent@1668148206\n",
      "sudo zfs snapshot szs-ss.b.1/SZS/4efe02f3-eb06-49fa-8a9a-ea25708e3f45_2022_10_19_11_49_00_clone_persistent@1668148207\n",
      "sudo zfs snapshot szs-ss.b.1/SZS/4efe02f3-eb06-49fa-8a9a-ea25708e3f45_2022_10_19_11_49_00_clone_persistent@1668148208\n",
      "sudo zfs snapshot szs-ss.b.1/SZS/4efe02f3-eb06-49fa-8a9a-ea25708e3f45_2022_10_19_11_49_00_clone_persistent@1668148209\n",
      "sudo zfs snapshot szs-ss.b.1/SZS/4efe02f3-eb06-49fa-8a9a-ea25708e3f45_2022_10_19_11_49_00_clone_persistent@1668148210\n",
      "sudo zfs snapshot szs-ss.b.1/SZS/4efe02f3-eb06-49fa-8a9a-ea25708e3f45_2022_10_19_11_49_00_clone_persistent@1668148211\n",
      "sudo zfs snapshot szs-ss.b.1/SZS/4efe02f3-eb06-49fa-8a9a-ea25708e3f45_2022_10_19_11_49_00_clone_persistent@1668148212\n",
      "sudo zfs snapshot szs-ss.b.1/SZS/4efe02f3-eb06-49fa-8a9a-ea25708e3f45_2022_10_19_11_49_00_clone_persistent@1668148213\n",
      "sudo zfs snapshot szs-ss.b.1/SZS/4efe02f3-eb06-49fa-8a9a-ea25708e3f45_2022_10_19_11_49_00_clone_persistent@1668148214\n",
      "sudo zfs snapshot szs-ss.b.1/SZS/4efe02f3-eb06-49fa-8a9a-ea25708e3f45_2022_10_19_11_49_00_clone_persistent@1668148215\n",
      "sudo zfs snapshot szs-ss.b.1/SZS/4efe02f3-eb06-49fa-8a9a-ea25708e3f45_2022_10_19_11_49_00_clone_persistent@1668148216\n",
      "sudo zfs snapshot szs-ss.b.1/SZS/4efe02f3-eb06-49fa-8a9a-ea25708e3f45_2022_10_19_11_49_00_clone_persistent@1668148217\n",
      "sudo zfs snapshot szs-ss.b.1/SZS/4efe02f3-eb06-49fa-8a9a-ea25708e3f45_2022_10_19_11_49_00_clone_persistent@1668148218\n",
      "sudo zfs snapshot szs-ss.b.1/SZS/4efe02f3-eb06-49fa-8a9a-ea25708e3f45_2022_10_19_11_49_00_clone_persistent@1668148219\n",
      "sudo zfs snapshot szs-ss.b.1/SZS/4efe02f3-eb06-49fa-8a9a-ea25708e3f45_2022_10_19_11_49_00_clone_persistent@1668148220\n",
      "sudo zfs snapshot szs-ss.b.1/SZS/4efe02f3-eb06-49fa-8a9a-ea25708e3f45_2022_10_19_11_49_00_clone_persistent@1668148221\n",
      "sudo zfs snapshot szs-ss.b.1/SZS/4efe02f3-eb06-49fa-8a9a-ea25708e3f45_2022_10_19_11_49_00_clone_persistent@1668148222\n",
      "sudo zfs snapshot szs-ss.b.1/SZS/4efe02f3-eb06-49fa-8a9a-ea25708e3f45_2022_10_19_11_49_00_clone_persistent@1668148223\n",
      "sudo zfs snapshot szs-ss.b.1/SZS/4efe02f3-eb06-49fa-8a9a-ea25708e3f45_2022_10_19_11_49_00_clone_persistent@1668148224\n",
      "sudo zfs snapshot szs-ss.b.1/SZS/4efe02f3-eb06-49fa-8a9a-ea25708e3f45_2022_10_19_11_49_00_clone_persistent@1668148225\n",
      "sudo zfs snapshot szs-ss.b.1/SZS/4efe02f3-eb06-49fa-8a9a-ea25708e3f45_2022_10_19_11_49_00_clone_persistent@1668148226\n",
      "sudo zfs snapshot szs-ss.b.1/SZS/4efe02f3-eb06-49fa-8a9a-ea25708e3f45_2022_10_19_11_49_00_clone_persistent@1668148227\n",
      "sudo zfs snapshot szs-ss.b.1/SZS/4efe02f3-eb06-49fa-8a9a-ea25708e3f45_2022_10_19_11_49_00_clone_persistent@1668148228\n",
      "sudo zfs snapshot szs-ss.b.1/SZS/4efe02f3-eb06-49fa-8a9a-ea25708e3f45_2022_10_19_11_49_00_clone_persistent@1668148229\n",
      "sudo zfs snapshot szs-ss.b.1/SZS/4efe02f3-eb06-49fa-8a9a-ea25708e3f45_2022_10_19_11_49_00_clone_persistent@1668148230\n",
      "sudo zfs snapshot szs-ss.b.1/SZS/4efe02f3-eb06-49fa-8a9a-ea25708e3f45_2022_10_19_11_49_00_clone_persistent@1668148231\n",
      "sudo zfs snapshot szs-ss.b.1/SZS/4efe02f3-eb06-49fa-8a9a-ea25708e3f45_2022_10_19_11_49_00_clone_persistent@1668148232\n",
      "sudo zfs snapshot szs-ss.b.1/SZS/4efe02f3-eb06-49fa-8a9a-ea25708e3f45_2022_10_19_11_49_00_clone_persistent@1668148233\n",
      "sudo zfs snapshot szs-ss.b.1/SZS/4efe02f3-eb06-49fa-8a9a-ea25708e3f45_2022_10_19_11_49_00_clone_persistent@1668148234\n",
      "sudo zfs snapshot szs-ss.b.1/SZS/4efe02f3-eb06-49fa-8a9a-ea25708e3f45_2022_10_19_11_49_00_clone_persistent@1668148235\n",
      "sudo zfs snapshot szs-ss.b.1/SZS/4efe02f3-eb06-49fa-8a9a-ea25708e3f45_2022_10_19_11_49_00_clone_persistent@1668148236\n",
      "sudo zfs snapshot szs-ss.b.1/SZS/4efe02f3-eb06-49fa-8a9a-ea25708e3f45_2022_10_19_11_49_00_clone_persistent@1668148237\n",
      "sudo zfs snapshot szs-ss.b.1/SZS/4efe02f3-eb06-49fa-8a9a-ea25708e3f45_2022_10_19_11_49_00_clone_persistent@1668148238\n",
      "sudo zfs snapshot szs-ss.b.1/SZS/4efe02f3-eb06-49fa-8a9a-ea25708e3f45_2022_10_19_11_49_00_clone_persistent@1668148239\n",
      "sudo zfs snapshot szs-ss.b.1/SZS/4efe02f3-eb06-49fa-8a9a-ea25708e3f45_2022_10_19_11_49_00_clone_persistent@1668148240\n",
      "sudo zfs snapshot szs-ss.b.1/SZS/4efe02f3-eb06-49fa-8a9a-ea25708e3f45_2022_10_19_11_49_00_clone_persistent@1668148241\n",
      "sudo zfs snapshot szs-ss.b.1/SZS/4efe02f3-eb06-49fa-8a9a-ea25708e3f45_2022_10_19_11_49_00_clone_persistent@1668148242\n",
      "sudo zfs snapshot szs-ss.b.1/SZS/4efe02f3-eb06-49fa-8a9a-ea25708e3f45_2022_10_19_11_49_00_clone_persistent@1668148243\n",
      "sudo zfs snapshot szs-ss.b.1/SZS/4efe02f3-eb06-49fa-8a9a-ea25708e3f45_2022_10_19_11_49_00_clone_persistent@1668148244\n",
      "sudo zfs snapshot szs-ss.b.1/SZS/4efe02f3-eb06-49fa-8a9a-ea25708e3f45_2022_10_19_11_49_00_clone_persistent@1668148245\n",
      "sudo zfs snapshot szs-ss.b.1/SZS/4efe02f3-eb06-49fa-8a9a-ea25708e3f45_2022_10_19_11_49_00_clone_persistent@1668148246\n",
      "sudo zfs snapshot szs-ss.b.1/SZS/4efe02f3-eb06-49fa-8a9a-ea25708e3f45_2022_10_19_11_49_00_clone_persistent@1668148247\n",
      "sudo zfs snapshot szs-ss.b.1/SZS/4efe02f3-eb06-49fa-8a9a-ea25708e3f45_2022_10_19_11_49_00_clone_persistent@1668148248\n",
      "sudo zfs snapshot szs-ss.b.1/SZS/4efe02f3-eb06-49fa-8a9a-ea25708e3f45_2022_10_19_11_49_00_clone_persistent@1668148249\n",
      "sudo zfs snapshot szs-ss.b.1/SZS/4efe02f3-eb06-49fa-8a9a-ea25708e3f45_2022_10_19_11_49_00_clone_persistent@1668148250\n",
      "sudo zfs snapshot szs-ss.b.1/SZS/4efe02f3-eb06-49fa-8a9a-ea25708e3f45_2022_10_19_11_49_00_clone_persistent@1668148251\n",
      "sudo zfs snapshot szs-ss.b.1/SZS/4efe02f3-eb06-49fa-8a9a-ea25708e3f45_2022_10_19_11_49_00_clone_persistent@1668148252\n",
      "sudo zfs snapshot szs-ss.b.1/SZS/4efe02f3-eb06-49fa-8a9a-ea25708e3f45_2022_10_19_11_49_00_clone_persistent@1668148253\n",
      "sudo zfs snapshot szs-ss.b.1/SZS/4efe02f3-eb06-49fa-8a9a-ea25708e3f45_2022_10_19_11_49_00_clone_persistent@1668148254\n",
      "sudo zfs snapshot szs-ss.b.1/SZS/4efe02f3-eb06-49fa-8a9a-ea25708e3f45_2022_10_19_11_49_00_clone_persistent@1668148255\n",
      "sudo zfs snapshot szs-ss.b.1/SZS/4efe02f3-eb06-49fa-8a9a-ea25708e3f45_2022_10_19_11_49_00_clone_persistent@1668148256\n",
      "sudo zfs snapshot szs-ss.b.1/SZS/4efe02f3-eb06-49fa-8a9a-ea25708e3f45_2022_10_19_11_49_00_clone_persistent@1668148257\n",
      "sudo zfs snapshot szs-ss.b.1/SZS/4efe02f3-eb06-49fa-8a9a-ea25708e3f45_2022_10_19_11_49_00_clone_persistent@1668148258\n",
      "sudo zfs snapshot szs-ss.b.1/SZS/4efe02f3-eb06-49fa-8a9a-ea25708e3f45_2022_10_19_11_49_00_clone_persistent@1668148259\n"
     ]
    }
   ],
   "source": [
    "# importing datetime module\n",
    "import datetime\n",
    "import time\n",
    "\n",
    "for i in range(60):\n",
    "    # assigned regular string date\n",
    "    date_time = datetime.datetime(2022, 11, 11, 00, 30, i)\n",
    "\n",
    "    # print regular python date&time\n",
    "    # print(\"date_time =>\",date_time)\n",
    "\n",
    "    # displaying unix timestamp after conversion\n",
    "    # print(\"unix_timestamp => \",\n",
    "    #     ((time.mktime(date_time.timetuple()))))\n",
    "    command = 'sudo zfs snapshot szs-ss.b.1/SZS/4efe02f3-eb06-49fa-8a9a-ea25708e3f45_2022_10_19_11_49_00_clone_persistent@'\n",
    "    print(f'{command}{int(time.mktime(date_time.timetuple()))}')"
   ]
  }
 ],
 "metadata": {
  "kernelspec": {
   "display_name": "Python 3",
   "language": "python",
   "name": "python3"
  },
  "language_info": {
   "codemirror_mode": {
    "name": "ipython",
    "version": 3
   },
   "file_extension": ".py",
   "mimetype": "text/x-python",
   "name": "python",
   "nbconvert_exporter": "python",
   "pygments_lexer": "ipython3",
   "version": "3.9.4 (default, Nov  1 2022, 16:20:27) \n[Clang 13.1.6 (clang-1316.0.21.2.5)]"
  },
  "orig_nbformat": 4,
  "vscode": {
   "interpreter": {
    "hash": "3967de046126f7b3a297a807e12c34979c37ca5010c7f67bec59a18dee4d4d56"
   }
  }
 },
 "nbformat": 4,
 "nbformat_minor": 2
}
