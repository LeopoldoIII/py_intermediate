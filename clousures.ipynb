{
 "cells": [
  {
   "cell_type": "markdown",
   "metadata": {},
   "source": [
    "A function that generate dinamicaly other function that can get access to any local variables"
   ]
  },
  {
   "cell_type": "code",
   "execution_count": 2,
   "metadata": {},
   "outputs": [],
   "source": [
    "def show_message(message):\n",
    "    message = message.tittle()\n",
    "    \n",
    "    def show(msg):\n",
    "        print(message, msg)\n",
    "    return show\n",
    "    "
   ]
  },
  {
   "cell_type": "code",
   "execution_count": 4,
   "metadata": {},
   "outputs": [
    {
     "ename": "AttributeError",
     "evalue": "'str' object has no attribute 'tittle'",
     "output_type": "error",
     "traceback": [
      "\u001b[0;31m---------------------------------------------------------------------------\u001b[0m",
      "\u001b[0;31mAttributeError\u001b[0m                            Traceback (most recent call last)",
      "\u001b[1;32m/Users/user/projects/python/py_intermediate/clousures.ipynb Cell 3\u001b[0m in \u001b[0;36m<cell line: 1>\u001b[0;34m()\u001b[0m\n\u001b[0;32m----> <a href='vscode-notebook-cell:/Users/user/projects/python/py_intermediate/clousures.ipynb#W2sZmlsZQ%3D%3D?line=0'>1</a>\u001b[0m new_message \u001b[39m=\u001b[39m show_message(\u001b[39m\"\u001b[39;49m\u001b[39mHola Amigos\u001b[39;49m\u001b[39m\"\u001b[39;49m)\n\u001b[1;32m      <a href='vscode-notebook-cell:/Users/user/projects/python/py_intermediate/clousures.ipynb#W2sZmlsZQ%3D%3D?line=1'>2</a>\u001b[0m new_message(\u001b[39m\"\u001b[39m\u001b[39m, Hola\u001b[39m\u001b[39m\"\u001b[39m)\n",
      "\u001b[1;32m/Users/user/projects/python/py_intermediate/clousures.ipynb Cell 3\u001b[0m in \u001b[0;36mshow_message\u001b[0;34m(message)\u001b[0m\n\u001b[1;32m      <a href='vscode-notebook-cell:/Users/user/projects/python/py_intermediate/clousures.ipynb#W2sZmlsZQ%3D%3D?line=0'>1</a>\u001b[0m \u001b[39mdef\u001b[39;00m \u001b[39mshow_message\u001b[39m(message):\n\u001b[0;32m----> <a href='vscode-notebook-cell:/Users/user/projects/python/py_intermediate/clousures.ipynb#W2sZmlsZQ%3D%3D?line=1'>2</a>\u001b[0m     message \u001b[39m=\u001b[39m message\u001b[39m.\u001b[39;49mtittle()\n\u001b[1;32m      <a href='vscode-notebook-cell:/Users/user/projects/python/py_intermediate/clousures.ipynb#W2sZmlsZQ%3D%3D?line=3'>4</a>\u001b[0m     \u001b[39mdef\u001b[39;00m \u001b[39mshow\u001b[39m(msg):\n\u001b[1;32m      <a href='vscode-notebook-cell:/Users/user/projects/python/py_intermediate/clousures.ipynb#W2sZmlsZQ%3D%3D?line=4'>5</a>\u001b[0m         \u001b[39mprint\u001b[39m(message, msg)\n",
      "\u001b[0;31mAttributeError\u001b[0m: 'str' object has no attribute 'tittle'"
     ]
    }
   ],
   "source": [
    "new_message = show_message(\"Hola Amigos\")\n",
    "new_message(\", Hola\")"
   ]
  },
  {
   "cell_type": "code",
   "execution_count": null,
   "metadata": {},
   "outputs": [],
   "source": []
  }
 ],
 "metadata": {
  "kernelspec": {
   "display_name": "Python 3.9.0 64-bit ('3.9.0')",
   "language": "python",
   "name": "python3"
  },
  "language_info": {
   "codemirror_mode": {
    "name": "ipython",
    "version": 3
   },
   "file_extension": ".py",
   "mimetype": "text/x-python",
   "name": "python",
   "nbconvert_exporter": "python",
   "pygments_lexer": "ipython3",
   "version": "3.9.0"
  },
  "orig_nbformat": 4,
  "vscode": {
   "interpreter": {
    "hash": "38bb126f593704e3f6085f7991d7fe77f3c15913336186335ed83e1d798c25b7"
   }
  }
 },
 "nbformat": 4,
 "nbformat_minor": 2
}
