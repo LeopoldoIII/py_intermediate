{
 "cells": [
  {
   "cell_type": "code",
   "id": "initial_id",
   "metadata": {
    "collapsed": true,
    "ExecuteTime": {
     "end_time": "2024-09-11T03:38:01.139705Z",
     "start_time": "2024-09-11T03:38:00.402892Z"
    }
   },
   "source": [
    "from bs4 import BeautifulSoup\n",
    "from urllib.request import urlopen\n",
    "import re\n",
    "\n",
    "url = \"http://olympus.realpython.org/profiles/dionysus\"\n",
    "\n",
    "html_page = urlopen(url)\n",
    "html_text = html_page.read().decode(\"utf-8\")\n",
    "soup = BeautifulSoup(html_text, \"html.parser\")\n",
    "print(html_text)\n",
    "\n",
    "# Name\n",
    "name = soup.find(\"h2\").text.split(\":\")[1].strip()\n",
    "print(name)\n",
    "\n",
    "# Use regular expressions to find text starting with \"Hometown:\"\n",
    "hometown_text = soup.find(string=re.compile(r\"Hometown:\"))\n",
    "if hometown_text:\n",
    "    # Extract the full line: \"Hometown: Mount Olympus\"\n",
    "    next_element = hometown_text.find_next()\n",
    "    if next_element and isinstance(next_element, str):\n",
    "        full_hometown_line = hometown_text.strip() + \" \" + next_element.strip()\n",
    "    else:\n",
    "        full_hometown_line = hometown_text.strip() + \" \" + next_element.get_text(strip=True)\n",
    "    print(full_hometown_line)\n",
    "\n",
    "    # Extract just \"Mount Olympus\"\n",
    "    hometown_only = next_element.strip() if isinstance(next_element, str) else next_element.get_text(strip=True)\n",
    "    print(hometown_only)\n"
   ],
   "outputs": [
    {
     "name": "stdout",
     "output_type": "stream",
     "text": [
      "<html>\n",
      "<head>\n",
      "<TITLE >Profile: Dionysus</title  / >\n",
      "</head>\n",
      "<body bgcolor=\"yellow\">\n",
      "<center>\n",
      "<br><br>\n",
      "<img src=\"/static/dionysus.jpg\" />\n",
      "<h2>Name: Dionysus</h2>\n",
      "<img src=\"/static/grapes.png\"><br><br>\n",
      "Hometown: Mount Olympus\n",
      "<br><br>\n",
      "Favorite animal: Leopard <br>\n",
      "<br>\n",
      "Favorite Color: Wine\n",
      "</center>\n",
      "</body>\n",
      "</html>\n",
      "\n",
      "Dionysus\n",
      "Hometown: Mount Olympus \n",
      "\n"
     ]
    }
   ],
   "execution_count": 1
  },
  {
   "metadata": {},
   "cell_type": "code",
   "outputs": [],
   "execution_count": null,
   "source": "",
   "id": "30277dd8c568ffe3"
  }
 ],
 "metadata": {
  "kernelspec": {
   "display_name": "Python 3",
   "language": "python",
   "name": "python3"
  },
  "language_info": {
   "codemirror_mode": {
    "name": "ipython",
    "version": 2
   },
   "file_extension": ".py",
   "mimetype": "text/x-python",
   "name": "python",
   "nbconvert_exporter": "python",
   "pygments_lexer": "ipython2",
   "version": "2.7.6"
  }
 },
 "nbformat": 4,
 "nbformat_minor": 5
}
