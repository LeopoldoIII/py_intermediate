{
 "cells": [
  {
   "cell_type": "code",
   "id": "initial_id",
   "metadata": {
    "collapsed": true,
    "ExecuteTime": {
     "end_time": "2025-02-27T17:03:47.571Z",
     "start_time": "2025-02-27T17:03:47.563615Z"
    }
   },
   "source": [
    "#sum of even numbers by range\n",
    "\n",
    "def sum_even_numbers(num_param):\n",
    "    num_list = []\n",
    "    for num in range(1, num_param):\n",
    "        if num % 2 == 0:\n",
    "            num_list.append(num)\n",
    "    \n",
    "    return sum([x for x in num_list])\n",
    "    \n",
    "\n",
    "print(sum_even_numbers(10))\n",
    "\n",
    "def sum_even_numbers_impro(num_param):\n",
    "   return sum([num for num in range(1, num_param) if num % 2 == 0])\n",
    "\n",
    "print(sum_even_numbers_impro(10))"
   ],
   "outputs": [
    {
     "name": "stdout",
     "output_type": "stream",
     "text": [
      "20\n",
      "20\n"
     ]
    }
   ],
   "execution_count": 7
  },
  {
   "metadata": {
    "ExecuteTime": {
     "end_time": "2025-02-27T18:06:34.149029Z",
     "start_time": "2025-02-27T18:06:34.140261Z"
    }
   },
   "cell_type": "code",
   "source": [
    "# for \n",
    "def factorial(num):\n",
    "    result = 1\n",
    "    for i in range(1, num + 1):\n",
    "        result *= i\n",
    "    return result\n",
    "\n",
    "print(factorial(7))\n",
    "\n",
    "\n",
    "# with math \n",
    "\n",
    "import math\n",
    "\n",
    "def factorial_math(num):\n",
    "    return math.factorial(num)\n",
    "\n",
    "print(factorial_math(7))\n",
    "\n",
    "\n",
    "# list comprehension + math.prod()\n",
    "\n",
    "def factorial_comprehension(num):\n",
    "    return math.prod([i for i in range(1, num + 1)])\n",
    "\n",
    "print(factorial_comprehension(7))\n",
    "\n",
    "\n",
    "# recursion\n",
    "\n",
    "def factorial_recursion(n):\n",
    "    if n == 0:\n",
    "        return 1\n",
    "    else:\n",
    "        return n * factorial_recursion(n - 1)\n",
    "    \n",
    "print(factorial_recursion(7))\n"
   ],
   "id": "ece52e4916462a4a",
   "outputs": [
    {
     "name": "stdout",
     "output_type": "stream",
     "text": [
      "5040\n",
      "5040\n",
      "5040\n",
      "5040\n",
      "15\n"
     ]
    }
   ],
   "execution_count": 18
  }
 ],
 "metadata": {
  "kernelspec": {
   "display_name": "Python 3",
   "language": "python",
   "name": "python3"
  },
  "language_info": {
   "codemirror_mode": {
    "name": "ipython",
    "version": 2
   },
   "file_extension": ".py",
   "mimetype": "text/x-python",
   "name": "python",
   "nbconvert_exporter": "python",
   "pygments_lexer": "ipython2",
   "version": "2.7.6"
  }
 },
 "nbformat": 4,
 "nbformat_minor": 5
}
