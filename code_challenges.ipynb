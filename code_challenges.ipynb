{
 "cells": [
  {
   "cell_type": "code",
   "execution_count": 3,
   "metadata": {
    "collapsed": true,
    "pycharm": {
     "name": "#%%\n"
    }
   },
   "outputs": [
    {
     "name": "stdout",
     "output_type": "stream",
     "text": [
      "0\n",
      "1\n",
      "1\n",
      "2\n",
      "3\n",
      "5\n",
      "8\n",
      "13\n",
      "21\n",
      "34\n"
     ]
    }
   ],
   "source": [
    "# Fibonacci sequence recursive version 1\n",
    "\n",
    "def fibonacci(n):\n",
    "    if not n <= 1:\n",
    "        return fibonacci(n - 1) + fibonacci(n - 2)\n",
    "    return n\n",
    "\n",
    "for i in range(10):\n",
    "    print(fibonacci(i))"
   ]
  },
  {
   "cell_type": "code",
   "execution_count": 11,
   "outputs": [
    {
     "data": {
      "text/plain": "[0, 1, 1, 2, 3, 5, 8, 13, 21, 34, 55, 89, 144, 233, 377]"
     },
     "execution_count": 11,
     "metadata": {},
     "output_type": "execute_result"
    }
   ],
   "source": [
    "def fibonacci_of(n):\n",
    "    if n in {0, 1}:\n",
    "        return n\n",
    "    return fibonacci_of(n -1) + fibonacci_of(n -2)\n",
    "\n",
    "[fibonacci_of(n) for n in range(15)]\n"
   ],
   "metadata": {
    "collapsed": false,
    "pycharm": {
     "name": "#%%\n"
    }
   }
  },
  {
   "cell_type": "code",
   "source": [
    "# Given an integer, return the integer with reversed digits.\n",
    "# Note: The integer could be either positive or negative.\n",
    "\n",
    "def reverse_something(value):\n",
    "    return str(value[::-1])\n",
    "\n",
    "print(reverse_something(\"-1-2-0\"))\n",
    "print(reverse_something(\"010\"))\n"
   ],
   "metadata": {
    "collapsed": false,
    "pycharm": {
     "name": "#%%\n"
    },
    "ExecuteTime": {
     "end_time": "2024-08-11T19:19:17.552945Z",
     "start_time": "2024-08-11T19:19:17.547673Z"
    }
   },
   "outputs": [
    {
     "name": "stdout",
     "output_type": "stream",
     "text": [
      "0-2-1-\n",
      "010\n"
     ]
    }
   ],
   "execution_count": 8
  },
  {
   "cell_type": "code",
   "execution_count": 3,
   "outputs": [
    {
     "name": "stdout",
     "output_type": "stream",
     "text": [
      "1\n",
      "2\n",
      "1\n"
     ]
    }
   ],
   "source": [
    "# Given a string, find the first non-repeating character in it and return its index.\n",
    "# If it doesn't exist, return -1. # Note: all the input strings are already lowercase.\n",
    "\n",
    "import collections\n",
    "\n",
    "def count_unique(word):\n",
    "\n",
    "    count = collections.Counter(word)\n",
    "    for index, value in enumerate(word):\n",
    "        if count[value] == 1:\n",
    "            return index\n",
    "    return -1\n",
    "\n",
    "print(count_unique(\"alphabet\"))\n",
    "print(count_unique(\"barbados\"))\n",
    "print(count_unique(\"crunchy\"))"
   ],
   "metadata": {
    "collapsed": false,
    "pycharm": {
     "name": "#%%\n"
    }
   }
  },
  {
   "cell_type": "markdown",
   "source": [
    "Problem: Find the First Non-Repeated Character in a String\n",
    "Objective: Write a Python function that takes a string as input and returns the first non-repeated character in the string. If all characters are repeated or the string is empty, return None.\n",
    "\n",
    "Example:\n",
    "\n",
    "Input: \"swiss\"\n",
    "Output: \"w\" (since 'w' is the first character that does not repeat)"
   ],
   "metadata": {
    "collapsed": false,
    "pycharm": {
     "name": "#%% md\n"
    }
   }
  },
  {
   "metadata": {
    "ExecuteTime": {
     "end_time": "2024-09-11T04:34:22.919595Z",
     "start_time": "2024-09-11T04:34:22.908993Z"
    }
   },
   "cell_type": "code",
   "source": [
    "def first_non_repeated(text: str) -> str:\n",
    "    text = text.lower()\n",
    "    char_count = {}\n",
    "    for letter in text:\n",
    "       letter_count = len([char for char in text if char == letter])\n",
    "       char_count[letter] = letter_count\n",
    "       \n",
    "    for char in text:\n",
    "        if char_count[char] == 1:\n",
    "            return char\n",
    "        \n",
    "    return None\n",
    "    \n",
    "# Test cases\n",
    "print(first_non_repeated(\"swiss\"))  # Output: 'w'\n",
    "print(first_non_repeated(\"programming\"))  # Output: 'r'\n",
    "print(first_non_repeated(\"aabbcc\"))  # Output: None\n",
    "print(first_non_repeated(\"\"))  \n",
    "\n",
    "# Revised Code:\n",
    "# Here's an optimized version of your solution:\n",
    "\n",
    "def first_non_repeated(text: str) -> str:\n",
    "    text = text.lower()\n",
    "    char_count = {}\n",
    "    \n",
    "    # First pass: Count each character's occurrences\n",
    "    for letter in text:\n",
    "        if letter in char_count:\n",
    "            char_count[letter] += 1\n",
    "        else:\n",
    "            char_count[letter] = 1\n",
    "    \n",
    "    # Second pass: Find the first non-repeated character\n",
    "    for char in text:\n",
    "        if char_count[char] == 1:\n",
    "            return char\n",
    "    \n",
    "    return None\n",
    "\n",
    "# Test cases\n",
    "print(first_non_repeated(\"swiss\"))         # Output: 'w'\n",
    "print(first_non_repeated(\"programming\"))   # Output: 'r'\n",
    "print(first_non_repeated(\"aabbcc\"))        # Output: None\n",
    "print(first_non_repeated(\"\"))              # Output: None\n",
    "\n",
    "        "
   ],
   "outputs": [
    {
     "name": "stdout",
     "output_type": "stream",
     "text": [
      "w\n",
      "p\n",
      "None\n",
      "None\n",
      "w\n",
      "p\n",
      "None\n",
      "None\n"
     ]
    }
   ],
   "execution_count": 10
  }
 ],
 "metadata": {
  "kernelspec": {
   "display_name": "Python 3",
   "language": "python",
   "name": "python3"
  },
  "language_info": {
   "codemirror_mode": {
    "name": "ipython",
    "version": 2
   },
   "file_extension": ".py",
   "mimetype": "text/x-python",
   "name": "python",
   "nbconvert_exporter": "python",
   "pygments_lexer": "ipython2",
   "version": "2.7.6"
  }
 },
 "nbformat": 4,
 "nbformat_minor": 0
}
