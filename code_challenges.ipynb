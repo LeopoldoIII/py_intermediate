{
 "cells": [
  {
   "cell_type": "code",
   "execution_count": 3,
   "metadata": {
    "collapsed": true,
    "pycharm": {
     "name": "#%%\n"
    }
   },
   "outputs": [
    {
     "name": "stdout",
     "output_type": "stream",
     "text": [
      "0\n",
      "1\n",
      "1\n",
      "2\n",
      "3\n",
      "5\n",
      "8\n",
      "13\n",
      "21\n",
      "34\n"
     ]
    }
   ],
   "source": [
    "# Fibonacci sequence recursive version 1\n",
    "\n",
    "def fibonacci(n):\n",
    "    if not n <= 1:\n",
    "        return fibonacci(n - 1) + fibonacci(n - 2)\n",
    "    return n\n",
    "\n",
    "for i in range(10):\n",
    "    print(fibonacci(i))"
   ]
  },
  {
   "cell_type": "code",
   "execution_count": 11,
   "outputs": [
    {
     "data": {
      "text/plain": "[0, 1, 1, 2, 3, 5, 8, 13, 21, 34, 55, 89, 144, 233, 377]"
     },
     "execution_count": 11,
     "metadata": {},
     "output_type": "execute_result"
    }
   ],
   "source": [
    "def fibonacci_of(n):\n",
    "    if n in {0, 1}:\n",
    "        return n\n",
    "    return fibonacci_of(n -1) + fibonacci_of(n -2)\n",
    "\n",
    "[fibonacci_of(n) for n in range(15)]\n"
   ],
   "metadata": {
    "collapsed": false,
    "pycharm": {
     "name": "#%%\n"
    }
   }
  },
  {
   "cell_type": "code",
   "source": [
    "# Given an integer, return the integer with reversed digits.\n",
    "# Note: The integer could be either positive or negative.\n",
    "\n",
    "def reverse_something(value):\n",
    "    return str(value[::-1])\n",
    "\n",
    "print(reverse_something(\"-1-2-0\"))\n",
    "print(reverse_something(\"010\"))\n"
   ],
   "metadata": {
    "collapsed": false,
    "pycharm": {
     "name": "#%%\n"
    },
    "ExecuteTime": {
     "end_time": "2024-08-11T19:19:17.552945Z",
     "start_time": "2024-08-11T19:19:17.547673Z"
    }
   },
   "outputs": [
    {
     "name": "stdout",
     "output_type": "stream",
     "text": [
      "0-2-1-\n",
      "010\n"
     ]
    }
   ],
   "execution_count": 8
  },
  {
   "cell_type": "code",
   "execution_count": 3,
   "outputs": [
    {
     "name": "stdout",
     "output_type": "stream",
     "text": [
      "1\n",
      "2\n",
      "1\n"
     ]
    }
   ],
   "source": [
    "# Given a string, find the first non-repeating character in it and return its index.\n",
    "# If it doesn't exist, return -1. # Note: all the input strings are already lowercase.\n",
    "\n",
    "import collections\n",
    "\n",
    "def count_unique(word):\n",
    "\n",
    "    count = collections.Counter(word)\n",
    "    for index, value in enumerate(word):\n",
    "        if count[value] == 1:\n",
    "            return index\n",
    "    return -1\n",
    "\n",
    "print(count_unique(\"alphabet\"))\n",
    "print(count_unique(\"barbados\"))\n",
    "print(count_unique(\"crunchy\"))"
   ],
   "metadata": {
    "collapsed": false,
    "pycharm": {
     "name": "#%%\n"
    }
   }
  },
  {
   "cell_type": "code",
   "execution_count": null,
   "outputs": [],
   "source": [],
   "metadata": {
    "collapsed": false,
    "pycharm": {
     "name": "#%%\n"
    }
   }
  },
  {
   "cell_type": "markdown",
   "source": [],
   "metadata": {
    "collapsed": false,
    "pycharm": {
     "name": "#%% md\n"
    }
   }
  }
 ],
 "metadata": {
  "kernelspec": {
   "display_name": "Python 3",
   "language": "python",
   "name": "python3"
  },
  "language_info": {
   "codemirror_mode": {
    "name": "ipython",
    "version": 2
   },
   "file_extension": ".py",
   "mimetype": "text/x-python",
   "name": "python",
   "nbconvert_exporter": "python",
   "pygments_lexer": "ipython2",
   "version": "2.7.6"
  }
 },
 "nbformat": 4,
 "nbformat_minor": 0
}
