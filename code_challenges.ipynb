{
 "cells": [
  {
   "cell_type": "code",
   "execution_count": 3,
   "metadata": {
    "collapsed": true,
    "pycharm": {
     "name": "#%%\n"
    }
   },
   "outputs": [
    {
     "name": "stdout",
     "output_type": "stream",
     "text": [
      "0\n",
      "1\n",
      "1\n",
      "2\n",
      "3\n",
      "5\n",
      "8\n",
      "13\n",
      "21\n",
      "34\n"
     ]
    }
   ],
   "source": [
    "# Fibonacci sequence recursive version 1\n",
    "\n",
    "def fibonacci(n):\n",
    "    if not n <= 1:\n",
    "        return fibonacci(n - 1) + fibonacci(n - 2)\n",
    "    return n\n",
    "\n",
    "\n",
    "for i in range(10):\n",
    "    print(fibonacci(i))"
   ]
  },
  {
   "cell_type": "code",
   "execution_count": 11,
   "outputs": [
    {
     "data": {
      "text/plain": "[0, 1, 1, 2, 3, 5, 8, 13, 21, 34, 55, 89, 144, 233, 377]"
     },
     "execution_count": 11,
     "metadata": {},
     "output_type": "execute_result"
    }
   ],
   "source": [
    "def fibonacci_of(n):\n",
    "    if n in {0, 1}:\n",
    "        return n\n",
    "    return fibonacci_of(n - 1) + fibonacci_of(n - 2)\n",
    "\n",
    "\n",
    "[fibonacci_of(n) for n in range(15)]\n"
   ],
   "metadata": {
    "collapsed": false,
    "pycharm": {
     "name": "#%%\n"
    }
   }
  },
  {
   "cell_type": "code",
   "source": [
    "# Given an integer, return the integer with reversed digits.\n",
    "# Note: The integer could be either positive or negative.\n",
    "\n",
    "def reverse_something(value):\n",
    "    return str(value[::-1])\n",
    "\n",
    "\n",
    "print(reverse_something(\"-1-2-0\"))\n",
    "print(reverse_something(\"010\"))\n"
   ],
   "metadata": {
    "collapsed": false,
    "pycharm": {
     "name": "#%%\n"
    },
    "ExecuteTime": {
     "end_time": "2024-08-11T19:19:17.552945Z",
     "start_time": "2024-08-11T19:19:17.547673Z"
    }
   },
   "outputs": [
    {
     "name": "stdout",
     "output_type": "stream",
     "text": [
      "0-2-1-\n",
      "010\n"
     ]
    }
   ],
   "execution_count": 8
  },
  {
   "cell_type": "code",
   "execution_count": 3,
   "outputs": [
    {
     "name": "stdout",
     "output_type": "stream",
     "text": [
      "1\n",
      "2\n",
      "1\n"
     ]
    }
   ],
   "source": [
    "# Given a string, find the first non-repeating character in it and return its index.\n",
    "# If it doesn't exist, return -1. # Note: all the input strings are already lowercase.\n",
    "\n",
    "import collections\n",
    "\n",
    "\n",
    "def count_unique(word):\n",
    "    count = collections.Counter(word)\n",
    "    for index, value in enumerate(word):\n",
    "        if count[value] == 1:\n",
    "            return index\n",
    "    return -1\n",
    "\n",
    "\n",
    "print(count_unique(\"alphabet\"))\n",
    "print(count_unique(\"barbados\"))\n",
    "print(count_unique(\"crunchy\"))"
   ],
   "metadata": {
    "collapsed": false,
    "pycharm": {
     "name": "#%%\n"
    }
   }
  },
  {
   "cell_type": "markdown",
   "source": [
    "Problem: Find the First Non-Repeated Character in a String\n",
    "Objective: Write a Python function that takes a string as input and returns the first non-repeated character in the string. If all characters are repeated or the string is empty, return None.\n",
    "\n",
    "Example:\n",
    "\n",
    "Input: \"swiss\"\n",
    "Output: \"w\" (since 'w' is the first character that does not repeat)"
   ],
   "metadata": {
    "collapsed": false,
    "pycharm": {
     "name": "#%% md\n"
    }
   }
  },
  {
   "metadata": {
    "ExecuteTime": {
     "end_time": "2024-09-11T04:34:22.919595Z",
     "start_time": "2024-09-11T04:34:22.908993Z"
    }
   },
   "cell_type": "code",
   "source": [
    "def first_non_repeated(text: str) -> str:\n",
    "    text = text.lower()\n",
    "    char_count = {}\n",
    "    for letter in text:\n",
    "        letter_count = len([char for char in text if char == letter])\n",
    "        char_count[letter] = letter_count\n",
    "\n",
    "    for char in text:\n",
    "        if char_count[char] == 1:\n",
    "            return char\n",
    "\n",
    "    return None\n",
    "\n",
    "\n",
    "# Test cases\n",
    "print(first_non_repeated(\"swiss\"))  # Output: 'w'\n",
    "print(first_non_repeated(\"programming\"))  # Output: 'r'\n",
    "print(first_non_repeated(\"aabbcc\"))  # Output: None\n",
    "print(first_non_repeated(\"\"))\n",
    "\n",
    "\n",
    "# Revised Code:\n",
    "# Here's an optimized version of your solution:\n",
    "\n",
    "def first_non_repeated(text: str) -> str:\n",
    "    text = text.lower()\n",
    "    char_count = {}\n",
    "\n",
    "    # First pass: Count each character's occurrences\n",
    "    for letter in text:\n",
    "        if letter in char_count:\n",
    "            char_count[letter] += 1\n",
    "        else:\n",
    "            char_count[letter] = 1\n",
    "\n",
    "    # Second pass: Find the first non-repeated character\n",
    "    for char in text:\n",
    "        if char_count[char] == 1:\n",
    "            return char\n",
    "\n",
    "    return None\n",
    "\n",
    "\n",
    "# Test cases\n",
    "print(first_non_repeated(\"swiss\"))  # Output: 'w'\n",
    "print(first_non_repeated(\"programming\"))  # Output: 'r'\n",
    "print(first_non_repeated(\"aabbcc\"))  # Output: None\n",
    "print(first_non_repeated(\"\"))  # Output: None\n",
    "\n"
   ],
   "outputs": [
    {
     "name": "stdout",
     "output_type": "stream",
     "text": [
      "w\n",
      "p\n",
      "None\n",
      "None\n",
      "w\n",
      "p\n",
      "None\n",
      "None\n"
     ]
    }
   ],
   "execution_count": 10
  },
  {
   "metadata": {
    "ExecuteTime": {
     "end_time": "2024-09-23T00:06:30.825620Z",
     "start_time": "2024-09-23T00:06:30.821099Z"
    }
   },
   "cell_type": "code",
   "source": [
    "def is_palindrome(text: str) -> bool:\n",
    "    # convert to lowercase and remove spaces and punctuation\n",
    "    filtered_text = ''.join(char.lower() for char in text if char.isalnum())\n",
    "    # check if filtered_text is equal to it's reverse\n",
    "    return filtered_text == filtered_text[::-1]\n",
    "\n",
    "\n",
    "# Test cases\n",
    "print(is_palindrome(\"A man a plan a canal Panama\"))  # Output: True\n",
    "print(is_palindrome(\"Hello\"))  # Output: False\n",
    "print(is_palindrome(\"Racecar\"))  # Output: True\n",
    "print(is_palindrome(\"No lemon, no melon\"))  # Output: True\n",
    "print(is_palindrome(\"\"))  # Output: True"
   ],
   "outputs": [
    {
     "name": "stdout",
     "output_type": "stream",
     "text": [
      "True\n",
      "False\n",
      "True\n",
      "True\n",
      "True\n"
     ]
    }
   ],
   "execution_count": 1
  },
  {
   "metadata": {},
   "cell_type": "markdown",
   "source": [
    "## Exercise: FizzBuzz with a Twist\n",
    "Objective: Write a Python function that takes a number n and prints the numbers from 1 to n. But there’s a twist:\n",
    "\n",
    "* For multiples of 3, print \"Fizz\" instead of the number.\n",
    "* For multiples of 5, print \"Buzz\" instead of the number.\n",
    "* For numbers that are multiples of both 3 and 5, print \"FizzBuzz\".\n",
    "* Otherwise, print the number itself."
   ]
  },
  {
   "metadata": {
    "ExecuteTime": {
     "end_time": "2024-09-23T00:17:13.816917Z",
     "start_time": "2024-09-23T00:17:13.810098Z"
    }
   },
   "cell_type": "code",
   "source": [
    "def fizzbuzz(number: int) -> None:\n",
    "    for n in range(1, number + 1):\n",
    "        if n % 3 == 0 and n % 5 == 0:\n",
    "            print(\"FizzBuzz\")\n",
    "        elif n % 3 == 0:\n",
    "            print(\"Fizz\")\n",
    "        elif n % 5 == 0:\n",
    "            print(\"Buzz\")\n",
    "        else:\n",
    "            print(n)\n",
    "\n",
    "\n",
    "print(fizzbuzz(15))"
   ],
   "outputs": [
    {
     "name": "stdout",
     "output_type": "stream",
     "text": [
      "1\n",
      "2\n",
      "Fizz\n",
      "4\n",
      "Buzz\n",
      "Fizz\n",
      "7\n",
      "8\n",
      "Fizz\n",
      "Buzz\n",
      "11\n",
      "Fizz\n",
      "13\n",
      "14\n",
      "FizzBuzz\n",
      "None\n"
     ]
    }
   ],
   "execution_count": 4
  },
  {
   "metadata": {
    "ExecuteTime": {
     "end_time": "2024-10-15T21:26:41.437265Z",
     "start_time": "2024-10-15T21:26:41.426849Z"
    }
   },
   "cell_type": "code",
   "source": [
    "from typing import Any\n",
    "\n",
    "\n",
    "def find_first_unique_caracter(string: str) -> int | Any:\n",
    "    result = {}\n",
    "    for letter in string:\n",
    "        if letter in result:\n",
    "            result[letter] += 1\n",
    "        else:\n",
    "            result[letter] = 1\n",
    "    for index, (k,v) in enumerate(result.items()):\n",
    "        if v == 1:\n",
    "            return index, k, v\n",
    "    return -1\n",
    "\n",
    "print(find_first_unique_caracter(\"hola\"))\n",
    "            \n",
    "        "
   ],
   "outputs": [
    {
     "name": "stdout",
     "output_type": "stream",
     "text": [
      "(0, 'h', 1)\n"
     ]
    }
   ],
   "execution_count": 11
  }
 ],
 "metadata": {
  "kernelspec": {
   "display_name": "Python 3",
   "language": "python",
   "name": "python3"
  },
  "language_info": {
   "codemirror_mode": {
    "name": "ipython",
    "version": 2
   },
   "file_extension": ".py",
   "mimetype": "text/x-python",
   "name": "python",
   "nbconvert_exporter": "python",
   "pygments_lexer": "ipython2",
   "version": "2.7.6"
  }
 },
 "nbformat": 4,
 "nbformat_minor": 0
}
